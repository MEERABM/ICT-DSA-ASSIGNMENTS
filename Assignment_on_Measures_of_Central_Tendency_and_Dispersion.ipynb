{
  "nbformat": 4,
  "nbformat_minor": 0,
  "metadata": {
    "colab": {
      "provenance": []
    },
    "kernelspec": {
      "name": "python3",
      "display_name": "Python 3"
    },
    "language_info": {
      "name": "python"
    }
  },
  "cells": [
    {
      "cell_type": "markdown",
      "source": [
        "Program to find out student’s ability in mathematics, reading and writing skills"
      ],
      "metadata": {
        "id": "faIqcuRPL8J7"
      }
    },
    {
      "cell_type": "code",
      "source": [
        "import numpy as np\n",
        "import pandas as pd\n",
        "import seaborn as sns\n",
        "import matplotlib.pyplot as plt"
      ],
      "metadata": {
        "id": "dIqv7K2pMDOq"
      },
      "execution_count": 2,
      "outputs": []
    },
    {
      "cell_type": "code",
      "source": [
        "from google.colab import files\n",
        "files.upload()"
      ],
      "metadata": {
        "colab": {
          "base_uri": "https://localhost:8080/",
          "height": 1000
        },
        "id": "Xg_Akq1qMs2q",
        "outputId": "6833b1f1-8278-4461-db09-fadb1b1f4c18"
      },
      "execution_count": 3,
      "outputs": [
        {
          "output_type": "display_data",
          "data": {
            "text/plain": [
              "<IPython.core.display.HTML object>"
            ],
            "text/html": [
              "\n",
              "     <input type=\"file\" id=\"files-d939f23e-58b3-4c4a-ab24-8a173ccb7a7e\" name=\"files[]\" multiple disabled\n",
              "        style=\"border:none\" />\n",
              "     <output id=\"result-d939f23e-58b3-4c4a-ab24-8a173ccb7a7e\">\n",
              "      Upload widget is only available when the cell has been executed in the\n",
              "      current browser session. Please rerun this cell to enable.\n",
              "      </output>\n",
              "      <script>// Copyright 2017 Google LLC\n",
              "//\n",
              "// Licensed under the Apache License, Version 2.0 (the \"License\");\n",
              "// you may not use this file except in compliance with the License.\n",
              "// You may obtain a copy of the License at\n",
              "//\n",
              "//      http://www.apache.org/licenses/LICENSE-2.0\n",
              "//\n",
              "// Unless required by applicable law or agreed to in writing, software\n",
              "// distributed under the License is distributed on an \"AS IS\" BASIS,\n",
              "// WITHOUT WARRANTIES OR CONDITIONS OF ANY KIND, either express or implied.\n",
              "// See the License for the specific language governing permissions and\n",
              "// limitations under the License.\n",
              "\n",
              "/**\n",
              " * @fileoverview Helpers for google.colab Python module.\n",
              " */\n",
              "(function(scope) {\n",
              "function span(text, styleAttributes = {}) {\n",
              "  const element = document.createElement('span');\n",
              "  element.textContent = text;\n",
              "  for (const key of Object.keys(styleAttributes)) {\n",
              "    element.style[key] = styleAttributes[key];\n",
              "  }\n",
              "  return element;\n",
              "}\n",
              "\n",
              "// Max number of bytes which will be uploaded at a time.\n",
              "const MAX_PAYLOAD_SIZE = 100 * 1024;\n",
              "\n",
              "function _uploadFiles(inputId, outputId) {\n",
              "  const steps = uploadFilesStep(inputId, outputId);\n",
              "  const outputElement = document.getElementById(outputId);\n",
              "  // Cache steps on the outputElement to make it available for the next call\n",
              "  // to uploadFilesContinue from Python.\n",
              "  outputElement.steps = steps;\n",
              "\n",
              "  return _uploadFilesContinue(outputId);\n",
              "}\n",
              "\n",
              "// This is roughly an async generator (not supported in the browser yet),\n",
              "// where there are multiple asynchronous steps and the Python side is going\n",
              "// to poll for completion of each step.\n",
              "// This uses a Promise to block the python side on completion of each step,\n",
              "// then passes the result of the previous step as the input to the next step.\n",
              "function _uploadFilesContinue(outputId) {\n",
              "  const outputElement = document.getElementById(outputId);\n",
              "  const steps = outputElement.steps;\n",
              "\n",
              "  const next = steps.next(outputElement.lastPromiseValue);\n",
              "  return Promise.resolve(next.value.promise).then((value) => {\n",
              "    // Cache the last promise value to make it available to the next\n",
              "    // step of the generator.\n",
              "    outputElement.lastPromiseValue = value;\n",
              "    return next.value.response;\n",
              "  });\n",
              "}\n",
              "\n",
              "/**\n",
              " * Generator function which is called between each async step of the upload\n",
              " * process.\n",
              " * @param {string} inputId Element ID of the input file picker element.\n",
              " * @param {string} outputId Element ID of the output display.\n",
              " * @return {!Iterable<!Object>} Iterable of next steps.\n",
              " */\n",
              "function* uploadFilesStep(inputId, outputId) {\n",
              "  const inputElement = document.getElementById(inputId);\n",
              "  inputElement.disabled = false;\n",
              "\n",
              "  const outputElement = document.getElementById(outputId);\n",
              "  outputElement.innerHTML = '';\n",
              "\n",
              "  const pickedPromise = new Promise((resolve) => {\n",
              "    inputElement.addEventListener('change', (e) => {\n",
              "      resolve(e.target.files);\n",
              "    });\n",
              "  });\n",
              "\n",
              "  const cancel = document.createElement('button');\n",
              "  inputElement.parentElement.appendChild(cancel);\n",
              "  cancel.textContent = 'Cancel upload';\n",
              "  const cancelPromise = new Promise((resolve) => {\n",
              "    cancel.onclick = () => {\n",
              "      resolve(null);\n",
              "    };\n",
              "  });\n",
              "\n",
              "  // Wait for the user to pick the files.\n",
              "  const files = yield {\n",
              "    promise: Promise.race([pickedPromise, cancelPromise]),\n",
              "    response: {\n",
              "      action: 'starting',\n",
              "    }\n",
              "  };\n",
              "\n",
              "  cancel.remove();\n",
              "\n",
              "  // Disable the input element since further picks are not allowed.\n",
              "  inputElement.disabled = true;\n",
              "\n",
              "  if (!files) {\n",
              "    return {\n",
              "      response: {\n",
              "        action: 'complete',\n",
              "      }\n",
              "    };\n",
              "  }\n",
              "\n",
              "  for (const file of files) {\n",
              "    const li = document.createElement('li');\n",
              "    li.append(span(file.name, {fontWeight: 'bold'}));\n",
              "    li.append(span(\n",
              "        `(${file.type || 'n/a'}) - ${file.size} bytes, ` +\n",
              "        `last modified: ${\n",
              "            file.lastModifiedDate ? file.lastModifiedDate.toLocaleDateString() :\n",
              "                                    'n/a'} - `));\n",
              "    const percent = span('0% done');\n",
              "    li.appendChild(percent);\n",
              "\n",
              "    outputElement.appendChild(li);\n",
              "\n",
              "    const fileDataPromise = new Promise((resolve) => {\n",
              "      const reader = new FileReader();\n",
              "      reader.onload = (e) => {\n",
              "        resolve(e.target.result);\n",
              "      };\n",
              "      reader.readAsArrayBuffer(file);\n",
              "    });\n",
              "    // Wait for the data to be ready.\n",
              "    let fileData = yield {\n",
              "      promise: fileDataPromise,\n",
              "      response: {\n",
              "        action: 'continue',\n",
              "      }\n",
              "    };\n",
              "\n",
              "    // Use a chunked sending to avoid message size limits. See b/62115660.\n",
              "    let position = 0;\n",
              "    do {\n",
              "      const length = Math.min(fileData.byteLength - position, MAX_PAYLOAD_SIZE);\n",
              "      const chunk = new Uint8Array(fileData, position, length);\n",
              "      position += length;\n",
              "\n",
              "      const base64 = btoa(String.fromCharCode.apply(null, chunk));\n",
              "      yield {\n",
              "        response: {\n",
              "          action: 'append',\n",
              "          file: file.name,\n",
              "          data: base64,\n",
              "        },\n",
              "      };\n",
              "\n",
              "      let percentDone = fileData.byteLength === 0 ?\n",
              "          100 :\n",
              "          Math.round((position / fileData.byteLength) * 100);\n",
              "      percent.textContent = `${percentDone}% done`;\n",
              "\n",
              "    } while (position < fileData.byteLength);\n",
              "  }\n",
              "\n",
              "  // All done.\n",
              "  yield {\n",
              "    response: {\n",
              "      action: 'complete',\n",
              "    }\n",
              "  };\n",
              "}\n",
              "\n",
              "scope.google = scope.google || {};\n",
              "scope.google.colab = scope.google.colab || {};\n",
              "scope.google.colab._files = {\n",
              "  _uploadFiles,\n",
              "  _uploadFilesContinue,\n",
              "};\n",
              "})(self);\n",
              "</script> "
            ]
          },
          "metadata": {}
        },
        {
          "output_type": "stream",
          "name": "stdout",
          "text": [
            "Saving StudentsPerformance.csv to StudentsPerformance (1).csv\n"
          ]
        },
        {
          "output_type": "execute_result",
          "data": {
            "text/plain": [
              "{'StudentsPerformance.csv': b\"gender,race/ethnicity,parental level of education,lunch,test preparation course,math score,reading score,writing score\\r\\nfemale,group C,some high school,free/reduced,none,0,17,10\\r\\nfemale,group B,high school,free/reduced,none,8,24,23\\r\\nfemale,group B,some high school,free/reduced,none,18,32,28\\r\\nfemale,group B,some college,standard,none,11,38,32\\r\\nfemale,group C,some college,free/reduced,none,22,39,33\\r\\nfemale,group B,high school,free/reduced,completed,23,44,36\\r\\nfemale,group B,some high school,free/reduced,none,24,38,27\\r\\nfemale,group D,associate's degree,free/reduced,none,26,31,38\\r\\nfemale,group D,some high school,free/reduced,none,19,34,32\\r\\nfemale,group C,high school,standard,none,29,29,30\\r\\nfemale,group C,some high school,free/reduced,completed,29,40,44\\r\\nfemale,group D,bachelor's degree,free/reduced,none,29,41,47\\r\\nfemale,group B,some high school,standard,completed,32,51,44\\r\\nfemale,group C,some college,free/reduced,none,32,39,33\\r\\nfemale,group E,some high school,free/reduced,none,32,34,38\\r\\nfemale,group C,high school,free/reduced,none,33,41,43\\r\\nfemale,group A,high school,free/reduced,completed,34,48,41\\r\\nfemale,group C,high school,free/reduced,none,34,42,39\\r\\nfemale,group C,high school,free/reduced,none,26,61,54\\r\\nfemale,group C,some college,free/reduced,none,25,44,43\\r\\nfemale,group C,high school,free/reduced,none,22,53,46\\r\\nfemale,group D,some high school,free/reduced,completed,35,55,60\\r\\nfemale,group C,high school,free/reduced,none,36,53,43\\r\\nfemale,group A,associate's degree,free/reduced,none,37,57,56\\r\\nfemale,group B,some high school,standard,none,37,46,46\\r\\nfemale,group E,bachelor's degree,standard,none,37,45,38\\r\\nfemale,group A,some high school,free/reduced,none,38,43,43\\r\\nfemale,group B,high school,free/reduced,none,38,60,50\\r\\nfemale,group E,some high school,free/reduced,none,38,49,45\\r\\nfemale,group C,associate's degree,standard,none,39,64,57\\r\\nfemale,group D,high school,free/reduced,none,39,52,46\\r\\nfemale,group B,associate's degree,standard,none,40,48,50\\r\\nfemale,group C,master's degree,free/reduced,none,40,58,54\\r\\nfemale,group C,associate's degree,standard,none,40,59,51\\r\\nfemale,group D,master's degree,free/reduced,none,40,59,54\\r\\nfemale,group D,some high school,free/reduced,completed,32,65,64\\r\\nfemale,group A,associate's degree,free/reduced,none,41,51,48\\r\\nfemale,group B,some high school,standard,none,41,55,51\\r\\nfemale,group C,high school,free/reduced,none,33,46,43\\r\\nfemale,group E,high school,free/reduced,none,41,45,40\\r\\nfemale,group B,high school,standard,none,24,52,51\\r\\nfemale,group C,high school,free/reduced,none,42,62,60\\r\\nfemale,group C,some college,free/reduced,completed,34,66,69\\r\\nfemale,group D,associate's degree,free/reduced,completed,42,61,58\\r\\nfemale,group E,some college,free/reduced,completed,42,55,54\\r\\nfemale,group C,bachelor's degree,free/reduced,completed,43,51,54\\r\\nfemale,group C,some high school,free/reduced,none,43,53,53\\r\\nfemale,group C,bachelor's degree,free/reduced,none,31,62,61\\r\\nfemale,group D,associate's degree,free/reduced,none,43,60,58\\r\\nfemale,group A,some high school,free/reduced,none,44,64,58\\r\\nfemale,group A,some high school,free/reduced,none,44,45,45\\r\\nfemale,group C,some high school,free/reduced,none,13,41,51\\r\\nfemale,group C,bachelor's degree,free/reduced,none,44,63,62\\r\\nfemale,group C,some high school,standard,completed,44,51,55\\r\\nfemale,group C,high school,standard,none,44,61,52\\r\\nfemale,group A,bachelor's degree,standard,none,45,59,64\\r\\nfemale,group B,some college,free/reduced,none,45,53,55\\r\\nfemale,group C,some college,free/reduced,completed,45,73,70\\r\\nfemale,group D,high school,standard,none,45,63,59\\r\\nfemale,group E,master's degree,free/reduced,none,45,56,54\\r\\nfemale,group B,high school,free/reduced,completed,46,54,58\\r\\nfemale,group B,associate's degree,free/reduced,none,46,61,55\\r\\nfemale,group C,some college,free/reduced,none,46,64,66\\r\\nfemale,group C,associate's degree,standard,none,46,58,57\\r\\nfemale,group D,associate's degree,free/reduced,none,46,56,57\\r\\nfemale,group A,some high school,free/reduced,none,47,59,50\\r\\nfemale,group B,associate's degree,standard,none,47,49,50\\r\\nfemale,group C,some high school,standard,none,47,54,53\\r\\nfemale,group C,bachelor's degree,free/reduced,completed,47,62,66\\r\\nfemale,group D,associate's degree,free/reduced,none,47,53,58\\r\\nfemale,group D,master's degree,free/reduced,completed,47,58,67\\r\\nfemale,group A,some high school,standard,none,48,66,65\\r\\nfemale,group B,some college,free/reduced,completed,48,56,58\\r\\nfemale,group B,high school,standard,none,48,62,60\\r\\nfemale,group C,some high school,free/reduced,none,48,58,52\\r\\nfemale,group C,some high school,free/reduced,none,48,56,51\\r\\nfemale,group D,some high school,standard,none,48,58,54\\r\\nfemale,group D,some high school,free/reduced,none,48,54,53\\r\\nfemale,group A,some college,free/reduced,none,49,65,55\\r\\nfemale,group B,associate's degree,standard,none,49,52,54\\r\\nfemale,group B,some high school,free/reduced,none,49,58,55\\r\\nfemale,group C,associate's degree,standard,none,49,53,53\\r\\nfemale,group C,some high school,standard,none,49,63,56\\r\\nfemale,group D,high school,free/reduced,none,49,57,52\\r\\nfemale,group D,some college,free/reduced,none,49,58,60\\r\\nfemale,group D,some college,free/reduced,none,49,65,61\\r\\nfemale,group A,master's degree,standard,none,50,53,58\\r\\nfemale,group A,master's degree,free/reduced,none,50,67,73\\r\\nfemale,group B,high school,free/reduced,none,50,67,63\\r\\nfemale,group B,high school,standard,none,50,53,55\\r\\nfemale,group B,some college,standard,completed,50,64,66\\r\\nfemale,group C,high school,free/reduced,completed,50,66,64\\r\\nfemale,group C,some high school,free/reduced,completed,50,60,60\\r\\nfemale,group C,bachelor's degree,free/reduced,none,50,60,59\\r\\nfemale,group D,some high school,free/reduced,none,50,64,59\\r\\nfemale,group E,associate's degree,free/reduced,none,50,56,54\\r\\nfemale,group E,high school,standard,none,50,50,47\\r\\nfemale,group A,bachelor's degree,standard,none,51,49,51\\r\\nfemale,group C,bachelor's degree,free/reduced,completed,51,72,79\\r\\nfemale,group D,some college,standard,none,51,58,54\\r\\nfemale,group D,some high school,standard,none,51,63,61\\r\\nfemale,group D,high school,standard,none,51,66,62\\r\\nfemale,group E,associate's degree,standard,none,51,51,54\\r\\nfemale,group B,associate's degree,free/reduced,none,52,76,70\\r\\nfemale,group B,master's degree,free/reduced,completed,52,70,62\\r\\nfemale,group B,associate's degree,standard,completed,52,66,73\\r\\nfemale,group B,bachelor's degree,standard,none,52,65,69\\r\\nfemale,group B,some high school,free/reduced,completed,52,67,72\\r\\nfemale,group C,some college,standard,none,52,58,58\\r\\nfemale,group C,associate's degree,standard,completed,52,59,62\\r\\nfemale,group C,master's degree,free/reduced,none,52,65,61\\r\\nfemale,group C,associate's degree,standard,none,52,55,57\\r\\nfemale,group C,bachelor's degree,standard,completed,52,61,66\\r\\nfemale,group D,high school,free/reduced,completed,52,57,56\\r\\nfemale,group D,associate's degree,free/reduced,none,52,59,56\\r\\nfemale,group D,some college,free/reduced,completed,52,59,65\\r\\nfemale,group A,high school,free/reduced,completed,53,50,60\\r\\nfemale,group B,associate's degree,standard,none,53,58,65\\r\\nfemale,group B,associate's degree,free/reduced,none,53,71,67\\r\\nfemale,group B,associate's degree,free/reduced,none,53,70,70\\r\\nfemale,group B,some college,free/reduced,completed,53,66,73\\r\\nfemale,group C,associate's degree,free/reduced,none,53,61,62\\r\\nfemale,group C,some college,standard,none,53,62,56\\r\\nfemale,group C,high school,free/reduced,none,53,72,64\\r\\nfemale,group C,associate's degree,standard,none,53,62,53\\r\\nfemale,group D,master's degree,standard,none,53,61,68\\r\\nfemale,group E,some college,free/reduced,none,53,58,57\\r\\nfemale,group A,some college,standard,none,54,63,67\\r\\nfemale,group B,high school,standard,none,54,64,68\\r\\nfemale,group B,some high school,standard,completed,54,61,62\\r\\nfemale,group B,associate's degree,free/reduced,none,54,65,65\\r\\nfemale,group C,associate's degree,free/reduced,none,54,58,61\\r\\nfemale,group C,high school,standard,none,54,59,62\\r\\nfemale,group C,some college,standard,none,54,48,52\\r\\nfemale,group C,some college,standard,none,54,64,65\\r\\nfemale,group C,master's degree,standard,completed,54,64,67\\r\\nfemale,group C,associate's degree,standard,none,54,61,58\\r\\nfemale,group D,master's degree,standard,none,54,60,63\\r\\nfemale,group A,associate's degree,standard,completed,55,65,62\\r\\nfemale,group A,high school,standard,none,55,73,73\\r\\nfemale,group C,some college,standard,none,55,69,65\\r\\nfemale,group C,some high school,free/reduced,none,55,65,62\\r\\nfemale,group C,associate's degree,standard,completed,55,72,79\\r\\nfemale,group D,master's degree,standard,none,55,64,70\\r\\nfemale,group D,some college,free/reduced,none,55,71,69\\r\\nfemale,group D,associate's degree,free/reduced,none,55,76,76\\r\\nfemale,group A,some college,standard,none,56,58,64\\r\\nfemale,group C,bachelor's degree,standard,completed,56,79,72\\r\\nfemale,group C,associate's degree,free/reduced,completed,56,68,70\\r\\nfemale,group D,high school,standard,completed,56,68,74\\r\\nfemale,group D,high school,standard,none,56,52,55\\r\\nfemale,group D,associate's degree,free/reduced,none,56,65,63\\r\\nfemale,group E,master's degree,free/reduced,none,56,72,65\\r\\nfemale,group B,associate's degree,standard,none,57,69,68\\r\\nfemale,group B,some high school,standard,none,57,67,72\\r\\nfemale,group C,associate's degree,free/reduced,none,57,78,67\\r\\nfemale,group C,associate's degree,standard,completed,57,77,80\\r\\nfemale,group D,associate's degree,free/reduced,completed,57,74,76\\r\\nfemale,group D,high school,standard,completed,57,58,64\\r\\nfemale,group D,associate's degree,standard,completed,57,78,79\\r\\nfemale,group E,associate's degree,free/reduced,completed,57,68,73\\r\\nfemale,group E,high school,free/reduced,none,57,58,57\\r\\nfemale,group E,high school,free/reduced,completed,57,75,73\\r\\nfemale,group A,some college,standard,none,58,70,67\\r\\nfemale,group B,master's degree,free/reduced,completed,58,76,78\\r\\nfemale,group B,some college,free/reduced,none,58,61,66\\r\\nfemale,group B,high school,standard,completed,58,70,68\\r\\nfemale,group B,high school,standard,none,58,62,59\\r\\nfemale,group B,associate's degree,standard,none,58,63,65\\r\\nfemale,group B,high school,standard,none,58,68,61\\r\\nfemale,group C,associate's degree,standard,none,58,73,68\\r\\nfemale,group C,some college,standard,none,58,67,72\\r\\nfemale,group C,some college,standard,none,58,59,66\\r\\nfemale,group C,high school,standard,completed,58,75,77\\r\\nfemale,group D,some college,free/reduced,completed,58,63,73\\r\\nfemale,group D,some college,free/reduced,none,58,67,62\\r\\nfemale,group A,some high school,standard,completed,59,85,80\\r\\nfemale,group A,some high school,free/reduced,none,59,73,69\\r\\nfemale,group A,bachelor's degree,standard,none,59,72,70\\r\\nfemale,group B,associate's degree,standard,completed,59,70,66\\r\\nfemale,group B,some high school,free/reduced,completed,59,63,64\\r\\nfemale,group C,associate's degree,standard,none,59,66,67\\r\\nfemale,group C,some college,free/reduced,none,59,62,64\\r\\nfemale,group C,bachelor's degree,standard,completed,59,64,75\\r\\nfemale,group C,some college,standard,none,59,71,70\\r\\nfemale,group C,some high school,standard,completed,59,54,67\\r\\nfemale,group C,associate's degree,standard,completed,59,73,72\\r\\nfemale,group C,high school,standard,none,59,72,68\\r\\nfemale,group C,high school,free/reduced,completed,59,71,65\\r\\nfemale,group D,some high school,standard,none,59,58,59\\r\\nfemale,group D,bachelor's degree,standard,none,59,70,73\\r\\nfemale,group D,some high school,standard,none,59,67,61\\r\\nfemale,group D,some college,free/reduced,completed,59,78,76\\r\\nfemale,group D,associate's degree,standard,none,59,70,65\\r\\nfemale,group D,some high school,standard,none,59,72,80\\r\\nfemale,group E,high school,standard,completed,59,63,75\\r\\nfemale,group E,associate's degree,standard,none,59,62,69\\r\\nfemale,group B,some high school,standard,completed,60,70,70\\r\\nfemale,group B,some high school,standard,completed,60,70,74\\r\\nfemale,group B,high school,free/reduced,none,60,72,68\\r\\nfemale,group C,some college,standard,none,60,72,74\\r\\nfemale,group C,associate's degree,free/reduced,none,60,75,74\\r\\nfemale,group C,high school,standard,none,60,68,72\\r\\nfemale,group C,high school,standard,completed,60,64,74\\r\\nfemale,group D,some college,free/reduced,none,60,66,70\\r\\nfemale,group A,some college,free/reduced,none,61,60,57\\r\\nfemale,group A,high school,standard,none,61,68,63\\r\\nfemale,group B,associate's degree,standard,completed,61,86,87\\r\\nfemale,group B,some college,free/reduced,none,61,68,66\\r\\nfemale,group B,bachelor's degree,standard,none,61,72,70\\r\\nfemale,group C,high school,standard,none,61,73,63\\r\\nfemale,group C,high school,standard,none,61,72,70\\r\\nfemale,group D,some high school,standard,completed,61,74,72\\r\\nfemale,group D,master's degree,free/reduced,completed,61,71,78\\r\\nfemale,group E,some college,standard,none,61,64,62\\r\\nfemale,group E,bachelor's degree,free/reduced,none,61,58,62\\r\\nfemale,group B,some high school,standard,none,62,64,66\\r\\nfemale,group B,some college,standard,none,62,67,67\\r\\nfemale,group B,high school,standard,none,62,62,63\\r\\nfemale,group C,some college,free/reduced,none,62,67,62\\r\\nfemale,group C,associate's degree,standard,none,62,74,70\\r\\nfemale,group C,high school,free/reduced,none,62,67,64\\r\\nfemale,group C,some college,free/reduced,none,62,72,70\\r\\nfemale,group C,bachelor's degree,free/reduced,none,62,78,79\\r\\nfemale,group C,associate's degree,standard,completed,62,76,80\\r\\nfemale,group C,some college,standard,none,62,69,69\\r\\nfemale,group D,master's degree,standard,none,62,70,75\\r\\nfemale,group D,high school,standard,none,62,64,64\\r\\nfemale,group D,some college,standard,none,62,70,72\\r\\nfemale,group D,bachelor's degree,free/reduced,none,62,72,74\\r\\nfemale,group E,master's degree,standard,none,62,68,68\\r\\nfemale,group E,some college,standard,none,62,73,70\\r\\nfemale,group B,some college,standard,none,63,65,61\\r\\nfemale,group B,some high school,free/reduced,completed,63,78,79\\r\\nfemale,group C,associate's degree,standard,none,63,67,70\\r\\nfemale,group C,bachelor's degree,standard,none,63,75,81\\r\\nfemale,group C,some college,standard,completed,63,78,80\\r\\nfemale,group C,some high school,standard,none,63,73,68\\r\\nfemale,group C,high school,standard,none,63,69,74\\r\\nfemale,group C,some college,standard,none,63,74,74\\r\\nfemale,group C,some college,free/reduced,completed,63,73,71\\r\\nfemale,group D,some college,free/reduced,completed,63,80,80\\r\\nfemale,group D,bachelor's degree,free/reduced,none,63,73,78\\r\\nfemale,group D,some college,standard,none,63,64,67\\r\\nfemale,group E,some college,standard,completed,63,72,70\\r\\nfemale,group B,high school,free/reduced,none,64,73,71\\r\\nfemale,group C,associate's degree,free/reduced,none,64,73,68\\r\\nfemale,group C,some high school,free/reduced,completed,64,79,77\\r\\nfemale,group C,some college,free/reduced,completed,64,85,85\\r\\nfemale,group C,associate's degree,standard,none,64,64,70\\r\\nfemale,group C,some college,standard,completed,64,82,77\\r\\nfemale,group D,some high school,standard,completed,64,60,74\\r\\nfemale,group D,master's degree,standard,none,64,63,66\\r\\nfemale,group D,some college,free/reduced,none,64,74,75\\r\\nfemale,group D,associate's degree,standard,none,64,76,74\\r\\nfemale,group E,bachelor's degree,standard,none,64,73,70\\r\\nfemale,group E,high school,free/reduced,none,64,62,68\\r\\nfemale,group A,associate's degree,free/reduced,none,65,85,76\\r\\nfemale,group A,associate's degree,standard,completed,65,70,74\\r\\nfemale,group B,high school,standard,none,65,81,73\\r\\nfemale,group B,some college,free/reduced,completed,65,75,70\\r\\nfemale,group B,high school,standard,none,65,64,62\\r\\nfemale,group B,bachelor's degree,standard,completed,65,81,81\\r\\nfemale,group B,some high school,standard,completed,65,82,78\\r\\nfemale,group C,bachelor's degree,standard,none,65,72,74\\r\\nfemale,group C,master's degree,free/reduced,completed,65,81,81\\r\\nfemale,group C,some high school,free/reduced,none,65,86,80\\r\\nfemale,group C,some high school,standard,completed,65,74,77\\r\\nfemale,group C,associate's degree,free/reduced,none,65,77,74\\r\\nfemale,group C,associate's degree,standard,none,65,76,76\\r\\nfemale,group C,associate's degree,standard,none,65,77,74\\r\\nfemale,group C,high school,standard,none,65,69,67\\r\\nfemale,group C,associate's degree,standard,completed,65,84,84\\r\\nfemale,group C,some high school,standard,none,65,69,76\\r\\nfemale,group C,bachelor's degree,standard,none,65,79,81\\r\\nfemale,group C,some high school,free/reduced,completed,65,76,75\\r\\nfemale,group D,bachelor's degree,standard,none,65,67,62\\r\\nfemale,group D,associate's degree,standard,none,65,69,70\\r\\nfemale,group D,some college,free/reduced,none,65,81,77\\r\\nfemale,group D,some college,standard,none,65,70,71\\r\\nfemale,group D,some high school,standard,none,65,82,81\\r\\nfemale,group D,some high school,standard,completed,65,78,82\\r\\nfemale,group D,high school,free/reduced,completed,65,61,71\\r\\nfemale,group E,bachelor's degree,standard,none,65,73,75\\r\\nfemale,group E,associate's degree,standard,completed,65,75,77\\r\\nfemale,group B,some high school,standard,none,66,69,68\\r\\nfemale,group B,bachelor's degree,standard,completed,66,74,81\\r\\nfemale,group B,high school,standard,none,66,72,70\\r\\nfemale,group C,high school,standard,none,66,71,76\\r\\nfemale,group C,bachelor's degree,free/reduced,completed,66,83,83\\r\\nfemale,group C,high school,free/reduced,none,66,76,68\\r\\nfemale,group C,bachelor's degree,free/reduced,completed,66,74,81\\r\\nfemale,group C,associate's degree,standard,none,66,77,73\\r\\nfemale,group D,some high school,standard,completed,66,78,78\\r\\nfemale,group E,high school,free/reduced,completed,66,74,78\\r\\nfemale,group E,associate's degree,standard,none,66,65,69\\r\\nfemale,group E,some college,standard,completed,66,74,73\\r\\nfemale,group B,bachelor's degree,standard,none,67,86,83\\r\\nfemale,group B,some high school,standard,none,67,89,82\\r\\nfemale,group B,high school,free/reduced,completed,67,78,79\\r\\nfemale,group B,high school,free/reduced,completed,67,80,81\\r\\nfemale,group C,bachelor's degree,standard,none,67,69,75\\r\\nfemale,group C,some college,free/reduced,completed,67,75,70\\r\\nfemale,group C,associate's degree,standard,completed,67,84,86\\r\\nfemale,group C,associate's degree,standard,completed,67,84,81\\r\\nfemale,group C,high school,free/reduced,completed,67,79,84\\r\\nfemale,group C,some college,standard,completed,67,81,79\\r\\nfemale,group C,some high school,standard,completed,67,74,77\\r\\nfemale,group C,bachelor's degree,free/reduced,none,67,75,72\\r\\nfemale,group D,high school,standard,none,67,72,74\\r\\nfemale,group D,some high school,free/reduced,none,67,84,84\\r\\nfemale,group D,some college,free/reduced,completed,67,86,83\\r\\nfemale,group E,some college,standard,none,67,76,75\\r\\nfemale,group A,high school,standard,completed,68,80,76\\r\\nfemale,group B,high school,standard,completed,68,83,78\\r\\nfemale,group B,associate's degree,free/reduced,completed,68,77,80\\r\\nfemale,group C,associate's degree,free/reduced,completed,68,67,69\\r\\nfemale,group C,associate's degree,standard,completed,68,86,84\\r\\nfemale,group C,associate's degree,standard,completed,68,67,73\\r\\nfemale,group D,bachelor's degree,standard,completed,68,75,81\\r\\nfemale,group D,some high school,standard,none,68,71,75\\r\\nfemale,group D,some college,standard,completed,68,78,77\\r\\nfemale,group E,some college,standard,none,68,70,66\\r\\nfemale,group E,associate's degree,standard,none,68,76,67\\r\\nfemale,group A,some college,standard,none,69,84,82\\r\\nfemale,group B,high school,standard,completed,69,76,74\\r\\nfemale,group C,some college,standard,completed,69,90,88\\r\\nfemale,group C,some high school,standard,none,69,75,78\\r\\nfemale,group C,some high school,standard,none,69,73,73\\r\\nfemale,group C,associate's degree,standard,none,69,80,71\\r\\nfemale,group C,master's degree,standard,completed,69,84,85\\r\\nfemale,group C,some college,standard,none,69,78,76\\r\\nfemale,group D,some college,standard,none,69,74,74\\r\\nfemale,group D,high school,standard,none,69,72,77\\r\\nfemale,group D,some college,standard,none,69,77,77\\r\\nfemale,group D,high school,standard,none,69,77,73\\r\\nfemale,group D,some college,standard,completed,69,79,81\\r\\nfemale,group D,high school,standard,completed,69,77,78\\r\\nfemale,group D,some high school,free/reduced,completed,69,86,81\\r\\nfemale,group D,some college,free/reduced,none,69,65,74\\r\\nfemale,group B,some high school,standard,none,70,64,72\\r\\nfemale,group B,some college,standard,none,70,75,78\\r\\nfemale,group C,some college,standard,completed,70,89,88\\r\\nfemale,group C,some high school,standard,completed,70,82,76\\r\\nfemale,group C,some college,standard,completed,70,72,76\\r\\nfemale,group D,some college,free/reduced,completed,70,78,78\\r\\nfemale,group D,master's degree,standard,completed,70,71,74\\r\\nfemale,group E,associate's degree,free/reduced,none,70,84,81\\r\\nfemale,group A,some high school,standard,none,71,83,77\\r\\nfemale,group B,associate's degree,standard,none,71,83,78\\r\\nfemale,group B,high school,free/reduced,none,71,87,82\\r\\nfemale,group C,some high school,free/reduced,completed,71,84,87\\r\\nfemale,group C,associate's degree,standard,completed,71,77,77\\r\\nfemale,group C,some college,standard,none,71,81,80\\r\\nfemale,group C,some college,standard,completed,71,71,80\\r\\nfemale,group D,associate's degree,standard,none,71,71,74\\r\\nfemale,group D,some college,free/reduced,none,71,83,83\\r\\nfemale,group D,bachelor's degree,standard,completed,71,76,83\\r\\nfemale,group E,some college,free/reduced,none,71,76,70\\r\\nfemale,group E,some college,standard,none,71,70,76\\r\\nfemale,group E,bachelor's degree,standard,completed,71,70,70\\r\\nfemale,group A,some college,standard,completed,72,79,82\\r\\nfemale,group B,bachelor's degree,standard,none,72,72,74\\r\\nfemale,group B,some high school,free/reduced,none,72,81,79\\r\\nfemale,group C,some college,standard,none,72,72,71\\r\\nfemale,group C,high school,standard,none,72,80,75\\r\\nfemale,group C,high school,standard,none,72,80,83\\r\\nfemale,group E,some high school,free/reduced,none,72,79,77\\r\\nfemale,group B,associate's degree,standard,none,73,76,80\\r\\nfemale,group B,associate's degree,standard,none,73,83,76\\r\\nfemale,group B,some high school,standard,none,73,79,79\\r\\nfemale,group C,some college,standard,none,73,80,82\\r\\nfemale,group C,some college,standard,none,73,76,78\\r\\nfemale,group C,master's degree,standard,none,73,78,74\\r\\nfemale,group D,some high school,standard,none,73,86,82\\r\\nfemale,group D,bachelor's degree,free/reduced,none,73,79,84\\r\\nfemale,group D,some high school,standard,none,73,84,85\\r\\nfemale,group D,associate's degree,standard,completed,73,75,80\\r\\nfemale,group D,high school,free/reduced,none,73,92,84\\r\\nfemale,group E,some college,standard,completed,73,78,76\\r\\nfemale,group E,associate's degree,free/reduced,none,73,76,78\\r\\nfemale,group B,some college,free/reduced,none,74,81,76\\r\\nfemale,group B,some high school,free/reduced,completed,74,90,88\\r\\nfemale,group B,high school,standard,none,74,72,72\\r\\nfemale,group C,associate's degree,standard,completed,74,75,83\\r\\nfemale,group C,bachelor's degree,free/reduced,completed,74,86,89\\r\\nfemale,group C,some high school,standard,none,74,75,82\\r\\nfemale,group D,associate's degree,standard,none,74,81,83\\r\\nfemale,group D,master's degree,standard,none,74,79,82\\r\\nfemale,group D,some college,standard,none,74,89,84\\r\\nfemale,group D,some college,standard,completed,74,75,79\\r\\nfemale,group D,associate's degree,free/reduced,completed,74,88,90\\r\\nfemale,group E,high school,standard,none,74,81,71\\r\\nfemale,group E,high school,standard,none,74,76,73\\r\\nfemale,group E,high school,standard,completed,74,79,80\\r\\nfemale,group E,some high school,free/reduced,none,74,74,72\\r\\nfemale,group A,high school,standard,completed,75,82,79\\r\\nfemale,group B,bachelor's degree,free/reduced,none,75,85,82\\r\\nfemale,group B,bachelor's degree,standard,none,75,84,80\\r\\nfemale,group C,some college,standard,completed,75,81,84\\r\\nfemale,group C,high school,standard,none,75,88,85\\r\\nfemale,group C,associate's degree,standard,completed,75,82,90\\r\\nfemale,group D,associate's degree,free/reduced,completed,75,90,88\\r\\nfemale,group D,some college,standard,completed,75,77,83\\r\\nfemale,group E,some college,free/reduced,completed,75,88,85\\r\\nfemale,group E,high school,standard,none,75,86,79\\r\\nfemale,group B,associate's degree,free/reduced,completed,76,94,87\\r\\nfemale,group B,high school,free/reduced,completed,76,85,82\\r\\nfemale,group C,some college,free/reduced,none,76,83,88\\r\\nfemale,group C,some high school,standard,completed,76,87,85\\r\\nfemale,group C,high school,standard,none,76,76,74\\r\\nfemale,group D,some high school,standard,none,76,72,71\\r\\nfemale,group D,associate's degree,standard,none,76,74,73\\r\\nfemale,group E,some college,standard,none,76,78,80\\r\\nfemale,group A,high school,free/reduced,completed,77,88,85\\r\\nfemale,group B,master's degree,free/reduced,completed,77,97,94\\r\\nfemale,group B,bachelor's degree,free/reduced,none,77,85,87\\r\\nfemale,group B,master's degree,standard,none,77,90,84\\r\\nfemale,group B,high school,standard,completed,77,82,89\\r\\nfemale,group C,bachelor's degree,standard,none,77,88,87\\r\\nfemale,group C,bachelor's degree,standard,completed,77,94,95\\r\\nfemale,group C,some college,free/reduced,none,77,90,91\\r\\nfemale,group C,some high school,standard,completed,77,90,85\\r\\nfemale,group C,some high school,standard,none,77,91,88\\r\\nfemale,group D,associate's degree,free/reduced,completed,77,89,98\\r\\nfemale,group D,master's degree,standard,completed,77,82,91\\r\\nfemale,group D,some college,standard,none,77,68,77\\r\\nfemale,group D,associate's degree,standard,none,77,77,73\\r\\nfemale,group D,some college,free/reduced,none,77,86,86\\r\\nfemale,group E,some high school,standard,none,77,79,80\\r\\nfemale,group A,some college,standard,completed,78,87,91\\r\\nfemale,group B,bachelor's degree,free/reduced,none,78,79,76\\r\\nfemale,group D,bachelor's degree,standard,none,78,82,79\\r\\nfemale,group D,high school,standard,none,78,81,80\\r\\nfemale,group D,bachelor's degree,free/reduced,none,78,90,93\\r\\nfemale,group D,master's degree,standard,none,78,91,96\\r\\nfemale,group B,some college,standard,none,79,86,92\\r\\nfemale,group C,bachelor's degree,standard,completed,79,92,89\\r\\nfemale,group D,some college,standard,none,79,86,81\\r\\nfemale,group D,bachelor's degree,standard,none,79,89,89\\r\\nfemale,group D,some college,free/reduced,none,79,89,86\\r\\nfemale,group D,some college,standard,completed,79,84,91\\r\\nfemale,group E,associate's degree,standard,completed,79,88,94\\r\\nfemale,group E,bachelor's degree,standard,completed,79,81,82\\r\\nfemale,group B,associate's degree,standard,none,80,86,83\\r\\nfemale,group D,some college,standard,none,80,90,89\\r\\nfemale,group D,some high school,standard,none,80,90,82\\r\\nfemale,group D,some high school,standard,completed,80,92,88\\r\\nfemale,group E,bachelor's degree,standard,none,80,83,83\\r\\nfemale,group E,some high school,standard,completed,80,85,85\\r\\nfemale,group B,high school,standard,none,81,91,89\\r\\nfemale,group C,master's degree,standard,completed,81,91,87\\r\\nfemale,group C,bachelor's degree,standard,none,81,88,90\\r\\nfemale,group C,associate's degree,standard,none,81,77,79\\r\\nfemale,group C,high school,standard,none,81,84,82\\r\\nfemale,group D,some high school,standard,none,81,97,96\\r\\nfemale,group E,master's degree,standard,none,81,92,91\\r\\nfemale,group E,master's degree,free/reduced,none,81,86,87\\r\\nfemale,group A,associate's degree,standard,none,82,93,93\\r\\nfemale,group B,associate's degree,standard,none,82,80,77\\r\\nfemale,group B,some high school,standard,none,82,82,80\\r\\nfemale,group B,some college,standard,none,82,85,87\\r\\nfemale,group C,some college,standard,none,82,90,94\\r\\nfemale,group C,associate's degree,free/reduced,completed,82,93,93\\r\\nfemale,group D,some college,standard,completed,82,97,96\\r\\nfemale,group D,associate's degree,standard,none,82,95,89\\r\\nfemale,group E,associate's degree,standard,completed,82,85,86\\r\\nfemale,group C,bachelor's degree,standard,none,83,93,95\\r\\nfemale,group C,associate's degree,standard,completed,83,85,90\\r\\nfemale,group C,some college,standard,none,83,83,90\\r\\nfemale,group E,associate's degree,free/reduced,completed,83,86,88\\r\\nfemale,group C,some college,standard,none,84,87,91\\r\\nfemale,group E,associate's degree,standard,none,84,95,92\\r\\nfemale,group A,some high school,standard,completed,85,90,92\\r\\nfemale,group C,some high school,standard,completed,85,92,93\\r\\nfemale,group C,associate's degree,standard,none,85,89,95\\r\\nfemale,group C,associate's degree,standard,none,85,84,82\\r\\nfemale,group D,associate's degree,standard,none,85,91,89\\r\\nfemale,group D,master's degree,free/reduced,completed,85,95,100\\r\\nfemale,group D,some college,standard,completed,85,86,98\\r\\nfemale,group E,associate's degree,standard,none,85,92,85\\r\\nfemale,group C,bachelor's degree,standard,none,86,92,87\\r\\nfemale,group E,some college,standard,completed,86,85,91\\r\\nfemale,group B,high school,standard,none,87,95,86\\r\\nfemale,group C,some college,standard,completed,87,89,94\\r\\nfemale,group D,master's degree,standard,none,87,100,100\\r\\nfemale,group E,associate's degree,standard,none,87,94,95\\r\\nfemale,group E,some college,standard,none,87,85,93\\r\\nfemale,group B,some college,standard,completed,88,95,92\\r\\nfemale,group C,some college,standard,completed,88,93,93\\r\\nfemale,group C,some college,standard,completed,88,95,94\\r\\nfemale,group D,associate's degree,standard,completed,88,92,95\\r\\nfemale,group D,high school,standard,completed,88,99,100\\r\\nfemale,group E,master's degree,standard,completed,88,99,95\\r\\nfemale,group D,bachelor's degree,standard,none,89,100,100\\r\\nfemale,group B,master's degree,standard,none,90,95,93\\r\\nfemale,group B,associate's degree,standard,completed,90,90,91\\r\\nfemale,group C,associate's degree,standard,none,91,86,84\\r\\nfemale,group C,associate's degree,standard,none,91,95,94\\r\\nfemale,group A,some high school,standard,completed,92,100,97\\r\\nfemale,group C,bachelor's degree,standard,completed,92,100,99\\r\\nfemale,group D,master's degree,standard,none,92,100,100\\r\\nfemale,group E,bachelor's degree,free/reduced,completed,92,100,100\\r\\nfemale,group D,bachelor's degree,free/reduced,completed,93,100,100\\r\\nfemale,group E,associate's degree,standard,completed,93,100,95\\r\\nfemale,group B,associate's degree,standard,completed,94,87,92\\r\\nfemale,group E,master's degree,standard,completed,94,99,100\\r\\nfemale,group E,associate's degree,standard,completed,95,89,92\\r\\nfemale,group C,bachelor's degree,standard,completed,96,100,100\\r\\nfemale,group C,associate's degree,standard,completed,96,96,99\\r\\nfemale,group B,bachelor's degree,standard,none,97,97,96\\r\\nfemale,group D,some high school,standard,completed,97,100,100\\r\\nfemale,group D,some college,standard,none,98,100,99\\r\\nfemale,group E,bachelor's degree,standard,completed,99,100,100\\r\\nfemale,group E,high school,standard,none,99,93,90\\r\\nfemale,group E,some college,standard,none,100,92,97\\r\\nfemale,group E,bachelor's degree,standard,none,100,100,100\\r\\nfemale,group E,associate's degree,standard,none,100,100,100\\r\\nmale,group C,high school,free/reduced,none,27,34,36\\r\\nmale,group A,some college,free/reduced,none,28,23,19\\r\\nmale,group B,high school,free/reduced,none,30,24,15\\r\\nmale,group E,some high school,standard,none,30,26,22\\r\\nmale,group B,some college,free/reduced,none,31,32,34\\r\\nmale,group B,some college,free/reduced,none,32,34,39\\r\\nmale,group C,some college,free/reduced,none,35,28,27\\r\\nmale,group D,high school,free/reduced,none,35,34,36\\r\\nmale,group B,high school,free/reduced,none,36,29,27\\r\\nmale,group C,bachelor's degree,free/reduced,none,37,56,47\\r\\nmale,group B,some high school,free/reduced,none,38,42,45\\r\\nmale,group A,some high school,free/reduced,none,39,39,34\\r\\nmale,group D,bachelor's degree,free/reduced,completed,39,42,38\\r\\nmale,group A,associate's degree,free/reduced,completed,40,55,53\\r\\nmale,group C,high school,free/reduced,completed,40,46,50\\r\\nmale,group D,associate's degree,standard,none,40,52,43\\r\\nmale,group D,some college,standard,none,40,42,38\\r\\nmale,group D,high school,standard,none,41,52,51\\r\\nmale,group D,high school,free/reduced,none,42,39,34\\r\\nmale,group B,some high school,standard,completed,43,41,41\\r\\nmale,group C,associate's degree,free/reduced,completed,43,45,50\\r\\nmale,group B,associate's degree,free/reduced,none,44,41,38\\r\\nmale,group D,some college,standard,none,44,54,53\\r\\nmale,group D,high school,free/reduced,none,44,51,48\\r\\nmale,group A,high school,free/reduced,none,45,47,49\\r\\nmale,group C,some high school,free/reduced,completed,45,52,49\\r\\nmale,group D,some high school,free/reduced,none,45,37,37\\r\\nmale,group D,high school,standard,none,45,48,46\\r\\nmale,group A,some high school,standard,completed,46,41,43\\r\\nmale,group C,associate's degree,standard,none,46,43,42\\r\\nmale,group D,high school,standard,none,46,34,36\\r\\nmale,group E,associate's degree,free/reduced,none,46,43,41\\r\\nmale,group E,associate's degree,free/reduced,completed,46,43,44\\r\\nmale,group A,associate's degree,free/reduced,none,47,57,44\\r\\nmale,group A,some high school,standard,completed,47,49,49\\r\\nmale,group B,high school,standard,none,47,46,42\\r\\nmale,group B,some college,standard,none,47,43,41\\r\\nmale,group C,associate's degree,standard,none,47,37,35\\r\\nmale,group A,high school,free/reduced,none,48,45,41\\r\\nmale,group B,bachelor's degree,free/reduced,none,48,51,46\\r\\nmale,group B,associate's degree,standard,none,48,43,45\\r\\nmale,group A,bachelor's degree,free/reduced,completed,49,58,60\\r\\nmale,group B,high school,free/reduced,none,49,45,45\\r\\nmale,group B,master's degree,free/reduced,none,49,53,52\\r\\nmale,group B,some high school,free/reduced,completed,49,50,52\\r\\nmale,group C,some high school,standard,none,49,49,41\\r\\nmale,group C,associate's degree,standard,none,49,51,43\\r\\nmale,group C,associate's degree,free/reduced,none,49,51,51\\r\\nmale,group D,some college,free/reduced,none,49,57,46\\r\\nmale,group E,some college,free/reduced,completed,49,52,51\\r\\nmale,group A,some college,free/reduced,completed,50,47,54\\r\\nmale,group C,some college,free/reduced,completed,50,48,53\\r\\nmale,group C,high school,standard,none,50,48,42\\r\\nmale,group D,bachelor's degree,free/reduced,none,50,42,48\\r\\nmale,group A,some high school,standard,none,51,31,36\\r\\nmale,group C,some high school,standard,none,51,52,44\\r\\nmale,group C,associate's degree,standard,completed,51,60,58\\r\\nmale,group C,some high school,free/reduced,completed,51,56,53\\r\\nmale,group B,high school,standard,none,52,48,49\\r\\nmale,group C,high school,standard,none,52,53,49\\r\\nmale,group D,associate's degree,standard,none,52,55,49\\r\\nmale,group D,associate's degree,free/reduced,none,52,57,50\\r\\nmale,group A,some college,standard,none,53,43,43\\r\\nmale,group A,some high school,standard,none,53,54,48\\r\\nmale,group A,high school,free/reduced,none,53,58,44\\r\\nmale,group C,some college,standard,none,53,44,42\\r\\nmale,group C,some high school,free/reduced,completed,53,37,40\\r\\nmale,group C,high school,free/reduced,completed,53,51,51\\r\\nmale,group C,bachelor's degree,free/reduced,none,53,58,55\\r\\nmale,group C,high school,standard,completed,53,52,49\\r\\nmale,group C,some college,standard,none,53,39,37\\r\\nmale,group D,high school,standard,none,53,52,42\\r\\nmale,group D,associate's degree,free/reduced,none,53,54,48\\r\\nmale,group E,some college,standard,none,53,55,48\\r\\nmale,group E,associate's degree,standard,none,53,45,40\\r\\nmale,group A,associate's degree,standard,none,54,53,47\\r\\nmale,group B,some college,standard,none,54,52,51\\r\\nmale,group B,some college,free/reduced,none,54,54,45\\r\\nmale,group C,master's degree,free/reduced,none,54,59,50\\r\\nmale,group C,high school,free/reduced,none,54,72,59\\r\\nmale,group D,bachelor's degree,standard,none,54,49,47\\r\\nmale,group D,high school,standard,none,54,52,52\\r\\nmale,group A,some high school,free/reduced,none,55,46,43\\r\\nmale,group B,bachelor's degree,free/reduced,none,55,59,54\\r\\nmale,group B,some college,free/reduced,none,55,55,47\\r\\nmale,group C,associate's degree,free/reduced,none,55,61,54\\r\\nmale,group D,some high school,free/reduced,completed,55,59,59\\r\\nmale,group D,some high school,standard,none,55,47,44\\r\\nmale,group D,some college,standard,none,55,58,52\\r\\nmale,group D,bachelor's degree,free/reduced,none,55,46,44\\r\\nmale,group D,high school,standard,completed,55,41,48\\r\\nmale,group E,high school,free/reduced,none,55,56,51\\r\\nmale,group C,some high school,free/reduced,completed,56,61,60\\r\\nmale,group D,some high school,free/reduced,none,56,54,52\\r\\nmale,group A,high school,standard,none,57,43,47\\r\\nmale,group A,high school,standard,none,57,51,54\\r\\nmale,group B,associate's degree,free/reduced,none,57,56,57\\r\\nmale,group B,high school,standard,none,57,48,51\\r\\nmale,group C,associate's degree,standard,completed,57,54,56\\r\\nmale,group C,some high school,standard,none,57,61,54\\r\\nmale,group D,high school,standard,none,57,50,54\\r\\nmale,group E,high school,free/reduced,completed,57,56,54\\r\\nmale,group A,some college,free/reduced,none,58,60,57\\r\\nmale,group B,some college,standard,none,58,50,45\\r\\nmale,group C,associate's degree,standard,none,58,54,52\\r\\nmale,group C,bachelor's degree,standard,none,58,55,48\\r\\nmale,group C,some college,standard,none,58,49,42\\r\\nmale,group C,high school,free/reduced,none,58,61,52\\r\\nmale,group C,some college,free/reduced,none,58,57,54\\r\\nmale,group C,high school,free/reduced,completed,58,51,52\\r\\nmale,group C,associate's degree,free/reduced,none,58,55,53\\r\\nmale,group C,high school,standard,completed,58,52,54\\r\\nmale,group D,some college,standard,completed,58,59,58\\r\\nmale,group A,high school,standard,none,59,52,46\\r\\nmale,group B,some college,free/reduced,completed,59,65,66\\r\\nmale,group B,bachelor's degree,standard,none,59,54,51\\r\\nmale,group B,high school,standard,none,59,58,47\\r\\nmale,group C,some high school,free/reduced,completed,59,69,65\\r\\nmale,group C,some college,standard,none,59,41,42\\r\\nmale,group C,some college,standard,none,59,60,58\\r\\nmale,group C,high school,free/reduced,none,59,53,52\\r\\nmale,group D,some high school,free/reduced,none,59,42,41\\r\\nmale,group D,some college,free/reduced,none,59,62,61\\r\\nmale,group E,some college,standard,none,59,51,43\\r\\nmale,group B,high school,standard,completed,60,44,47\\r\\nmale,group B,some college,free/reduced,none,60,60,60\\r\\nmale,group B,high school,standard,none,60,68,60\\r\\nmale,group C,associate's degree,free/reduced,completed,60,51,56\\r\\nmale,group D,some high school,standard,none,60,59,54\\r\\nmale,group D,high school,free/reduced,none,60,57,51\\r\\nmale,group D,some college,standard,none,60,63,59\\r\\nmale,group A,some college,standard,completed,61,51,52\\r\\nmale,group A,some high school,free/reduced,completed,61,62,61\\r\\nmale,group B,associate's degree,free/reduced,none,61,58,56\\r\\nmale,group B,some high school,standard,completed,61,56,56\\r\\nmale,group B,associate's degree,standard,none,61,42,41\\r\\nmale,group C,some high school,free/reduced,none,61,57,56\\r\\nmale,group C,some college,standard,none,61,61,62\\r\\nmale,group C,bachelor's degree,free/reduced,none,61,66,61\\r\\nmale,group C,high school,standard,none,61,56,55\\r\\nmale,group C,master's degree,free/reduced,none,61,67,66\\r\\nmale,group C,high school,free/reduced,none,61,60,55\\r\\nmale,group D,associate's degree,standard,none,61,55,52\\r\\nmale,group D,some college,free/reduced,none,61,47,56\\r\\nmale,group D,associate's degree,standard,none,61,48,46\\r\\nmale,group D,bachelor's degree,free/reduced,completed,61,70,76\\r\\nmale,group D,associate's degree,free/reduced,completed,61,71,73\\r\\nmale,group A,associate's degree,free/reduced,none,62,61,55\\r\\nmale,group A,some high school,standard,completed,62,67,69\\r\\nmale,group A,bachelor's degree,free/reduced,none,62,72,65\\r\\nmale,group B,some college,standard,none,62,61,57\\r\\nmale,group B,bachelor's degree,free/reduced,none,62,63,56\\r\\nmale,group B,high school,standard,none,62,55,54\\r\\nmale,group C,high school,standard,none,62,55,49\\r\\nmale,group C,master's degree,free/reduced,completed,62,68,75\\r\\nmale,group C,high school,standard,none,62,67,58\\r\\nmale,group C,some high school,standard,none,62,64,55\\r\\nmale,group C,associate's degree,standard,none,62,65,58\\r\\nmale,group C,high school,free/reduced,none,62,55,55\\r\\nmale,group D,some high school,standard,none,62,67,61\\r\\nmale,group D,some high school,standard,completed,62,66,68\\r\\nmale,group D,some high school,free/reduced,none,62,49,52\\r\\nmale,group D,some college,free/reduced,none,62,57,62\\r\\nmale,group E,associate's degree,standard,completed,62,56,53\\r\\nmale,group E,associate's degree,standard,completed,62,61,58\\r\\nmale,group A,associate's degree,standard,none,63,61,61\\r\\nmale,group A,high school,standard,none,63,63,62\\r\\nmale,group B,bachelor's degree,standard,none,63,71,69\\r\\nmale,group B,some high school,standard,completed,63,67,67\\r\\nmale,group B,high school,free/reduced,none,63,48,47\\r\\nmale,group C,some high school,standard,completed,63,60,57\\r\\nmale,group C,some college,free/reduced,none,63,61,54\\r\\nmale,group C,bachelor's degree,standard,completed,63,64,66\\r\\nmale,group C,some college,standard,none,63,63,60\\r\\nmale,group D,some college,standard,completed,63,55,63\\r\\nmale,group D,high school,free/reduced,none,63,57,56\\r\\nmale,group D,bachelor's degree,free/reduced,none,63,66,67\\r\\nmale,group D,some college,free/reduced,none,63,61,60\\r\\nmale,group A,some high school,standard,none,64,50,43\\r\\nmale,group A,bachelor's degree,standard,none,64,60,58\\r\\nmale,group B,some high school,standard,completed,64,53,57\\r\\nmale,group C,associate's degree,free/reduced,none,64,66,59\\r\\nmale,group C,some high school,standard,none,64,58,51\\r\\nmale,group D,high school,free/reduced,completed,64,64,67\\r\\nmale,group D,high school,standard,none,64,54,50\\r\\nmale,group E,associate's degree,free/reduced,none,64,56,52\\r\\nmale,group A,some high school,free/reduced,none,65,59,53\\r\\nmale,group B,associate's degree,standard,none,65,54,57\\r\\nmale,group B,some high school,standard,completed,65,66,62\\r\\nmale,group B,associate's degree,standard,completed,65,65,63\\r\\nmale,group C,associate's degree,free/reduced,completed,65,67,65\\r\\nmale,group C,some college,free/reduced,none,65,58,49\\r\\nmale,group C,associate's degree,free/reduced,completed,65,73,68\\r\\nmale,group D,some college,standard,completed,65,77,74\\r\\nmale,group A,bachelor's degree,standard,none,66,64,62\\r\\nmale,group A,some high school,standard,completed,66,68,64\\r\\nmale,group B,high school,free/reduced,none,66,77,70\\r\\nmale,group B,bachelor's degree,standard,none,66,60,57\\r\\nmale,group B,some college,standard,none,66,65,60\\r\\nmale,group C,high school,free/reduced,none,66,66,59\\r\\nmale,group C,some college,standard,none,66,59,52\\r\\nmale,group D,high school,standard,none,66,69,63\\r\\nmale,group D,associate's degree,free/reduced,none,66,62,64\\r\\nmale,group D,high school,free/reduced,none,66,74,69\\r\\nmale,group E,associate's degree,standard,completed,66,63,64\\r\\nmale,group E,some college,standard,none,66,57,52\\r\\nmale,group A,associate's degree,standard,none,67,57,53\\r\\nmale,group B,some high school,standard,none,67,64,61\\r\\nmale,group B,associate's degree,free/reduced,none,67,62,60\\r\\nmale,group C,master's degree,standard,none,67,57,59\\r\\nmale,group C,some high school,standard,completed,67,73,68\\r\\nmale,group C,some college,free/reduced,completed,67,74,70\\r\\nmale,group D,bachelor's degree,standard,completed,67,61,68\\r\\nmale,group D,associate's degree,standard,completed,67,72,67\\r\\nmale,group D,some college,standard,none,67,64,70\\r\\nmale,group D,associate's degree,standard,completed,67,54,63\\r\\nmale,group A,some high school,free/reduced,none,68,72,64\\r\\nmale,group A,high school,standard,none,68,70,66\\r\\nmale,group B,some high school,standard,none,68,54,53\\r\\nmale,group C,high school,standard,none,68,60,53\\r\\nmale,group C,some high school,free/reduced,none,68,63,54\\r\\nmale,group C,some college,free/reduced,none,68,68,61\\r\\nmale,group C,associate's degree,free/reduced,none,68,65,61\\r\\nmale,group D,bachelor's degree,standard,completed,68,74,74\\r\\nmale,group D,some college,standard,none,68,59,62\\r\\nmale,group D,high school,standard,completed,68,64,66\\r\\nmale,group D,bachelor's degree,free/reduced,none,68,68,67\\r\\nmale,group E,some college,standard,none,68,60,59\\r\\nmale,group E,bachelor's degree,standard,none,68,68,64\\r\\nmale,group E,some high school,standard,completed,68,51,57\\r\\nmale,group E,some college,standard,none,68,72,65\\r\\nmale,group A,some college,standard,none,69,67,69\\r\\nmale,group B,some college,standard,none,69,54,55\\r\\nmale,group C,associate's degree,standard,none,69,77,69\\r\\nmale,group C,bachelor's degree,standard,none,69,63,61\\r\\nmale,group C,high school,standard,completed,69,58,53\\r\\nmale,group C,some high school,free/reduced,none,69,71,65\\r\\nmale,group C,some college,standard,none,69,64,68\\r\\nmale,group D,some college,free/reduced,none,69,66,60\\r\\nmale,group D,bachelor's degree,standard,none,69,58,57\\r\\nmale,group D,some college,free/reduced,completed,69,60,63\\r\\nmale,group D,some high school,standard,none,69,66,61\\r\\nmale,group D,high school,standard,none,69,75,71\\r\\nmale,group D,high school,free/reduced,none,69,70,67\\r\\nmale,group E,some college,standard,none,69,60,54\\r\\nmale,group B,high school,standard,none,70,65,60\\r\\nmale,group B,some college,free/reduced,completed,70,72,76\\r\\nmale,group C,high school,standard,none,70,70,65\\r\\nmale,group C,high school,standard,none,70,56,51\\r\\nmale,group C,high school,standard,none,70,74,71\\r\\nmale,group C,bachelor's degree,free/reduced,completed,70,75,74\\r\\nmale,group D,high school,standard,none,70,70,70\\r\\nmale,group D,some college,free/reduced,none,70,63,58\\r\\nmale,group E,high school,standard,none,70,55,56\\r\\nmale,group E,bachelor's degree,free/reduced,completed,70,68,72\\r\\nmale,group E,bachelor's degree,standard,completed,70,64,70\\r\\nmale,group A,some high school,standard,none,71,62,50\\r\\nmale,group A,high school,standard,none,71,74,64\\r\\nmale,group C,high school,standard,none,71,79,71\\r\\nmale,group C,high school,standard,none,71,66,65\\r\\nmale,group C,high school,standard,none,71,60,61\\r\\nmale,group C,bachelor's degree,standard,completed,71,74,68\\r\\nmale,group C,master's degree,standard,none,71,67,67\\r\\nmale,group D,some college,standard,completed,71,61,69\\r\\nmale,group D,associate's degree,standard,none,71,66,60\\r\\nmale,group D,some college,standard,none,71,49,52\\r\\nmale,group D,some high school,standard,completed,71,69,68\\r\\nmale,group E,associate's degree,standard,completed,71,74,68\\r\\nmale,group A,high school,standard,completed,72,73,74\\r\\nmale,group A,high school,free/reduced,completed,72,67,65\\r\\nmale,group B,some high school,standard,none,72,68,67\\r\\nmale,group B,high school,standard,completed,72,65,68\\r\\nmale,group B,some college,standard,completed,72,76,74\\r\\nmale,group C,high school,standard,completed,72,67,64\\r\\nmale,group C,master's degree,free/reduced,completed,72,66,72\\r\\nmale,group D,associate's degree,standard,none,72,79,74\\r\\nmale,group D,high school,standard,none,72,66,66\\r\\nmale,group D,some college,standard,none,72,57,58\\r\\nmale,group E,associate's degree,standard,none,72,64,63\\r\\nmale,group E,associate's degree,standard,none,72,57,62\\r\\nmale,group A,master's degree,free/reduced,none,73,74,72\\r\\nmale,group B,bachelor's degree,free/reduced,none,73,56,57\\r\\nmale,group B,high school,standard,completed,73,71,68\\r\\nmale,group B,high school,standard,completed,73,69,68\\r\\nmale,group C,associate's degree,free/reduced,none,73,68,66\\r\\nmale,group C,some high school,standard,none,73,66,66\\r\\nmale,group C,some high school,standard,none,73,66,63\\r\\nmale,group C,some college,standard,none,73,74,61\\r\\nmale,group C,associate's degree,standard,completed,73,78,72\\r\\nmale,group D,high school,free/reduced,completed,73,68,66\\r\\nmale,group D,master's degree,standard,none,73,70,75\\r\\nmale,group D,some high school,standard,none,73,66,62\\r\\nmale,group E,some high school,free/reduced,completed,73,67,59\\r\\nmale,group E,high school,standard,none,73,64,57\\r\\nmale,group B,some high school,standard,none,74,63,57\\r\\nmale,group B,associate's degree,free/reduced,completed,74,70,73\\r\\nmale,group B,some college,standard,completed,74,77,77\\r\\nmale,group B,associate's degree,free/reduced,completed,74,77,73\\r\\nmale,group B,some college,free/reduced,completed,74,77,76\\r\\nmale,group C,associate's degree,standard,none,74,73,67\\r\\nmale,group C,some college,free/reduced,none,74,77,73\\r\\nmale,group D,bachelor's degree,free/reduced,completed,74,71,80\\r\\nmale,group D,bachelor's degree,free/reduced,completed,74,79,75\\r\\nmale,group D,some high school,standard,completed,74,71,78\\r\\nmale,group D,some high school,standard,none,74,74,72\\r\\nmale,group D,high school,free/reduced,none,74,70,69\\r\\nmale,group E,some high school,standard,completed,74,64,60\\r\\nmale,group A,bachelor's degree,standard,completed,75,58,62\\r\\nmale,group A,some college,free/reduced,none,75,81,74\\r\\nmale,group B,some college,free/reduced,none,75,68,65\\r\\nmale,group C,high school,standard,completed,75,69,68\\r\\nmale,group C,some high school,standard,none,75,72,62\\r\\nmale,group C,high school,standard,none,75,81,71\\r\\nmale,group D,some high school,standard,none,75,74,69\\r\\nmale,group D,associate's degree,standard,none,75,68,64\\r\\nmale,group D,associate's degree,free/reduced,none,75,66,73\\r\\nmale,group D,bachelor's degree,standard,none,75,73,74\\r\\nmale,group B,high school,standard,completed,76,62,60\\r\\nmale,group C,some college,standard,none,76,78,75\\r\\nmale,group C,master's degree,free/reduced,completed,76,76,46\\r\\nmale,group C,associate's degree,standard,none,76,70,68\\r\\nmale,group C,some high school,standard,completed,76,80,73\\r\\nmale,group D,some college,standard,completed,76,83,79\\r\\nmale,group D,some college,standard,none,76,64,66\\r\\nmale,group D,high school,standard,none,76,73,68\\r\\nmale,group D,some high school,standard,completed,76,70,69\\r\\nmale,group D,some college,standard,none,76,71,73\\r\\nmale,group E,some college,standard,none,76,67,67\\r\\nmale,group E,bachelor's degree,standard,completed,76,62,66\\r\\nmale,group E,associate's degree,standard,none,76,71,67\\r\\nmale,group E,some college,standard,none,76,71,72\\r\\nmale,group A,bachelor's degree,standard,none,77,67,68\\r\\nmale,group C,associate's degree,free/reduced,none,77,67,64\\r\\nmale,group D,some college,standard,completed,77,62,62\\r\\nmale,group D,some college,free/reduced,none,77,62,64\\r\\nmale,group D,associate's degree,free/reduced,none,77,78,73\\r\\nmale,group D,some high school,standard,completed,77,68,69\\r\\nmale,group E,associate's degree,free/reduced,completed,77,69,68\\r\\nmale,group E,some high school,standard,completed,77,76,77\\r\\nmale,group A,some college,standard,completed,78,72,70\\r\\nmale,group B,high school,standard,completed,78,69,67\\r\\nmale,group C,associate's degree,free/reduced,completed,78,81,82\\r\\nmale,group C,associate's degree,standard,completed,78,77,77\\r\\nmale,group C,some high school,standard,completed,78,72,69\\r\\nmale,group D,high school,free/reduced,completed,78,77,80\\r\\nmale,group D,some high school,standard,completed,78,81,86\\r\\nmale,group E,some high school,free/reduced,completed,78,83,80\\r\\nmale,group E,associate's degree,free/reduced,completed,78,74,72\\r\\nmale,group A,some high school,free/reduced,none,79,82,73\\r\\nmale,group A,associate's degree,free/reduced,completed,79,82,82\\r\\nmale,group B,some college,standard,none,79,67,67\\r\\nmale,group B,high school,standard,none,79,60,65\\r\\nmale,group B,some high school,standard,completed,79,85,86\\r\\nmale,group C,some college,standard,completed,79,79,78\\r\\nmale,group C,master's degree,free/reduced,none,79,81,71\\r\\nmale,group C,master's degree,standard,none,79,78,77\\r\\nmale,group C,master's degree,standard,none,79,72,69\\r\\nmale,group C,some high school,free/reduced,none,79,76,65\\r\\nmale,group C,master's degree,free/reduced,completed,79,77,75\\r\\nmale,group D,some college,standard,none,79,73,67\\r\\nmale,group D,associate's degree,free/reduced,completed,79,82,80\\r\\nmale,group E,bachelor's degree,free/reduced,completed,79,74,72\\r\\nmale,group A,bachelor's degree,standard,completed,80,78,81\\r\\nmale,group B,associate's degree,standard,none,80,76,64\\r\\nmale,group C,some college,free/reduced,none,80,64,66\\r\\nmale,group D,some high school,free/reduced,completed,80,79,79\\r\\nmale,group D,associate's degree,standard,none,80,75,77\\r\\nmale,group D,master's degree,standard,none,80,80,72\\r\\nmale,group D,associate's degree,standard,none,80,68,72\\r\\nmale,group D,associate's degree,standard,none,80,63,63\\r\\nmale,group D,bachelor's degree,standard,none,80,73,72\\r\\nmale,group D,associate's degree,standard,none,80,75,69\\r\\nmale,group E,high school,standard,none,80,76,65\\r\\nmale,group A,some college,free/reduced,completed,81,78,81\\r\\nmale,group B,associate's degree,standard,completed,81,82,82\\r\\nmale,group B,associate's degree,standard,none,81,73,72\\r\\nmale,group C,high school,standard,none,81,66,64\\r\\nmale,group D,associate's degree,standard,completed,81,72,77\\r\\nmale,group D,associate's degree,free/reduced,none,81,75,78\\r\\nmale,group D,master's degree,standard,none,81,81,84\\r\\nmale,group D,associate's degree,standard,none,81,71,73\\r\\nmale,group D,some college,standard,none,81,82,84\\r\\nmale,group D,some high school,standard,none,81,78,78\\r\\nmale,group E,associate's degree,standard,completed,81,81,79\\r\\nmale,group E,high school,standard,completed,81,80,76\\r\\nmale,group E,some college,standard,completed,81,74,71\\r\\nmale,group E,some high school,standard,completed,81,75,76\\r\\nmale,group B,associate's degree,free/reduced,completed,82,78,74\\r\\nmale,group B,associate's degree,standard,completed,82,84,78\\r\\nmale,group B,high school,standard,none,82,82,80\\r\\nmale,group C,high school,standard,completed,82,84,82\\r\\nmale,group C,associate's degree,standard,completed,82,75,77\\r\\nmale,group D,master's degree,standard,none,82,82,74\\r\\nmale,group D,some college,standard,completed,82,82,88\\r\\nmale,group E,bachelor's degree,standard,none,82,62,62\\r\\nmale,group E,some high school,standard,none,82,67,61\\r\\nmale,group C,bachelor's degree,standard,completed,83,82,84\\r\\nmale,group C,bachelor's degree,standard,none,83,78,73\\r\\nmale,group C,associate's degree,standard,none,83,72,78\\r\\nmale,group E,some college,standard,none,83,80,73\\r\\nmale,group B,some high school,standard,completed,84,83,75\\r\\nmale,group C,high school,standard,none,84,77,74\\r\\nmale,group C,associate's degree,standard,none,84,80,80\\r\\nmale,group C,some college,standard,none,84,87,81\\r\\nmale,group D,master's degree,free/reduced,completed,84,89,90\\r\\nmale,group D,some high school,standard,none,84,84,80\\r\\nmale,group E,some college,standard,none,84,77,71\\r\\nmale,group E,some college,standard,completed,84,83,78\\r\\nmale,group E,high school,standard,none,84,73,69\\r\\nmale,group B,some high school,standard,completed,85,84,78\\r\\nmale,group C,associate's degree,standard,none,85,76,71\\r\\nmale,group D,master's degree,standard,none,85,84,89\\r\\nmale,group D,some college,standard,completed,85,81,85\\r\\nmale,group E,bachelor's degree,standard,completed,85,66,71\\r\\nmale,group E,some college,standard,completed,85,75,68\\r\\nmale,group C,bachelor's degree,standard,none,86,83,86\\r\\nmale,group C,high school,standard,completed,86,81,80\\r\\nmale,group D,some high school,standard,none,86,80,75\\r\\nmale,group D,some high school,standard,none,86,73,70\\r\\nmale,group E,some college,standard,none,86,76,74\\r\\nmale,group E,high school,free/reduced,completed,86,81,75\\r\\nmale,group A,bachelor's degree,standard,completed,87,84,87\\r\\nmale,group B,associate's degree,standard,none,87,85,73\\r\\nmale,group B,bachelor's degree,free/reduced,completed,87,90,88\\r\\nmale,group B,some college,standard,completed,87,84,86\\r\\nmale,group C,associate's degree,standard,completed,87,100,95\\r\\nmale,group C,associate's degree,free/reduced,none,87,73,72\\r\\nmale,group D,associate's degree,standard,completed,87,84,85\\r\\nmale,group E,some college,free/reduced,completed,87,74,70\\r\\nmale,group E,high school,standard,completed,87,91,81\\r\\nmale,group E,associate's degree,standard,none,87,74,76\\r\\nmale,group E,some high school,standard,completed,87,84,76\\r\\nmale,group B,some high school,standard,none,88,84,75\\r\\nmale,group B,some college,standard,completed,88,85,76\\r\\nmale,group B,bachelor's degree,free/reduced,none,88,75,76\\r\\nmale,group C,high school,standard,none,88,89,86\\r\\nmale,group D,high school,standard,none,88,78,75\\r\\nmale,group D,some college,standard,none,88,73,78\\r\\nmale,group D,bachelor's degree,standard,none,88,78,83\\r\\nmale,group D,some high school,standard,completed,88,74,75\\r\\nmale,group D,some college,standard,none,88,77,77\\r\\nmale,group D,master's degree,standard,none,89,84,82\\r\\nmale,group D,some high school,standard,completed,89,88,82\\r\\nmale,group D,high school,standard,none,89,87,79\\r\\nmale,group E,associate's degree,standard,none,89,76,74\\r\\nmale,group E,some high school,standard,completed,89,84,77\\r\\nmale,group B,associate's degree,standard,none,90,78,81\\r\\nmale,group B,some college,standard,completed,90,95,92\\r\\nmale,group C,high school,standard,none,90,75,69\\r\\nmale,group D,associate's degree,free/reduced,none,90,87,75\\r\\nmale,group D,associate's degree,standard,none,90,87,85\\r\\nmale,group E,master's degree,standard,none,90,85,84\\r\\nmale,group E,associate's degree,free/reduced,none,90,90,82\\r\\nmale,group A,bachelor's degree,standard,none,91,96,92\\r\\nmale,group B,associate's degree,standard,completed,91,89,92\\r\\nmale,group B,some college,standard,completed,91,96,91\\r\\nmale,group C,some college,standard,none,91,74,76\\r\\nmale,group C,bachelor's degree,standard,completed,91,81,79\\r\\nmale,group C,master's degree,standard,completed,91,85,85\\r\\nmale,group E,associate's degree,free/reduced,completed,91,73,80\\r\\nmale,group C,associate's degree,standard,none,92,79,84\\r\\nmale,group E,some high school,standard,none,92,87,78\\r\\nmale,group C,some college,standard,completed,93,84,90\\r\\nmale,group E,some college,free/reduced,none,93,90,83\\r\\nmale,group B,some high school,standard,completed,94,86,87\\r\\nmale,group C,bachelor's degree,standard,completed,94,90,91\\r\\nmale,group E,some high school,standard,none,94,88,78\\r\\nmale,group E,associate's degree,standard,completed,94,85,82\\r\\nmale,group E,high school,standard,none,94,73,71\\r\\nmale,group D,master's degree,standard,none,95,81,84\\r\\nmale,group C,bachelor's degree,standard,completed,96,90,92\\r\\nmale,group A,associate's degree,standard,completed,97,92,86\\r\\nmale,group C,associate's degree,standard,none,97,93,91\\r\\nmale,group E,some college,standard,none,97,87,82\\r\\nmale,group E,associate's degree,standard,completed,97,82,88\\r\\nmale,group C,some college,standard,completed,98,86,90\\r\\nmale,group C,associate's degree,standard,completed,98,87,90\\r\\nmale,group E,some college,standard,completed,99,87,81\\r\\nmale,group A,some college,standard,completed,100,96,86\\r\\nmale,group D,some college,standard,completed,100,97,99\\r\\nmale,group E,associate's degree,free/reduced,completed,100,100,93\\r\\nmale,group E,bachelor's degree,standard,completed,100,100,100\\r\\n\"}"
            ]
          },
          "metadata": {},
          "execution_count": 3
        }
      ]
    },
    {
      "cell_type": "code",
      "source": [
        "df = pd.read_csv('StudentsPerformance.csv')"
      ],
      "metadata": {
        "id": "tgSGT6uiNR-p"
      },
      "execution_count": 4,
      "outputs": []
    },
    {
      "cell_type": "code",
      "source": [
        "df.head()"
      ],
      "metadata": {
        "colab": {
          "base_uri": "https://localhost:8080/",
          "height": 206
        },
        "id": "ORkiqizWN1dy",
        "outputId": "49db2eea-c6d3-4bd3-dbd6-0cf28387441b"
      },
      "execution_count": 5,
      "outputs": [
        {
          "output_type": "execute_result",
          "data": {
            "text/plain": [
              "   gender race/ethnicity parental level of education         lunch  \\\n",
              "0  female        group C            some high school  free/reduced   \n",
              "1  female        group B                 high school  free/reduced   \n",
              "2  female        group B            some high school  free/reduced   \n",
              "3  female        group B                some college      standard   \n",
              "4  female        group C                some college  free/reduced   \n",
              "\n",
              "  test preparation course  math score  reading score  writing score  \n",
              "0                    none           0             17             10  \n",
              "1                    none           8             24             23  \n",
              "2                    none          18             32             28  \n",
              "3                    none          11             38             32  \n",
              "4                    none          22             39             33  "
            ],
            "text/html": [
              "\n",
              "  <div id=\"df-bf198dbb-7e41-47e8-a3d0-4dc2e1135246\">\n",
              "    <div class=\"colab-df-container\">\n",
              "      <div>\n",
              "<style scoped>\n",
              "    .dataframe tbody tr th:only-of-type {\n",
              "        vertical-align: middle;\n",
              "    }\n",
              "\n",
              "    .dataframe tbody tr th {\n",
              "        vertical-align: top;\n",
              "    }\n",
              "\n",
              "    .dataframe thead th {\n",
              "        text-align: right;\n",
              "    }\n",
              "</style>\n",
              "<table border=\"1\" class=\"dataframe\">\n",
              "  <thead>\n",
              "    <tr style=\"text-align: right;\">\n",
              "      <th></th>\n",
              "      <th>gender</th>\n",
              "      <th>race/ethnicity</th>\n",
              "      <th>parental level of education</th>\n",
              "      <th>lunch</th>\n",
              "      <th>test preparation course</th>\n",
              "      <th>math score</th>\n",
              "      <th>reading score</th>\n",
              "      <th>writing score</th>\n",
              "    </tr>\n",
              "  </thead>\n",
              "  <tbody>\n",
              "    <tr>\n",
              "      <th>0</th>\n",
              "      <td>female</td>\n",
              "      <td>group C</td>\n",
              "      <td>some high school</td>\n",
              "      <td>free/reduced</td>\n",
              "      <td>none</td>\n",
              "      <td>0</td>\n",
              "      <td>17</td>\n",
              "      <td>10</td>\n",
              "    </tr>\n",
              "    <tr>\n",
              "      <th>1</th>\n",
              "      <td>female</td>\n",
              "      <td>group B</td>\n",
              "      <td>high school</td>\n",
              "      <td>free/reduced</td>\n",
              "      <td>none</td>\n",
              "      <td>8</td>\n",
              "      <td>24</td>\n",
              "      <td>23</td>\n",
              "    </tr>\n",
              "    <tr>\n",
              "      <th>2</th>\n",
              "      <td>female</td>\n",
              "      <td>group B</td>\n",
              "      <td>some high school</td>\n",
              "      <td>free/reduced</td>\n",
              "      <td>none</td>\n",
              "      <td>18</td>\n",
              "      <td>32</td>\n",
              "      <td>28</td>\n",
              "    </tr>\n",
              "    <tr>\n",
              "      <th>3</th>\n",
              "      <td>female</td>\n",
              "      <td>group B</td>\n",
              "      <td>some college</td>\n",
              "      <td>standard</td>\n",
              "      <td>none</td>\n",
              "      <td>11</td>\n",
              "      <td>38</td>\n",
              "      <td>32</td>\n",
              "    </tr>\n",
              "    <tr>\n",
              "      <th>4</th>\n",
              "      <td>female</td>\n",
              "      <td>group C</td>\n",
              "      <td>some college</td>\n",
              "      <td>free/reduced</td>\n",
              "      <td>none</td>\n",
              "      <td>22</td>\n",
              "      <td>39</td>\n",
              "      <td>33</td>\n",
              "    </tr>\n",
              "  </tbody>\n",
              "</table>\n",
              "</div>\n",
              "      <button class=\"colab-df-convert\" onclick=\"convertToInteractive('df-bf198dbb-7e41-47e8-a3d0-4dc2e1135246')\"\n",
              "              title=\"Convert this dataframe to an interactive table.\"\n",
              "              style=\"display:none;\">\n",
              "        \n",
              "  <svg xmlns=\"http://www.w3.org/2000/svg\" height=\"24px\"viewBox=\"0 0 24 24\"\n",
              "       width=\"24px\">\n",
              "    <path d=\"M0 0h24v24H0V0z\" fill=\"none\"/>\n",
              "    <path d=\"M18.56 5.44l.94 2.06.94-2.06 2.06-.94-2.06-.94-.94-2.06-.94 2.06-2.06.94zm-11 1L8.5 8.5l.94-2.06 2.06-.94-2.06-.94L8.5 2.5l-.94 2.06-2.06.94zm10 10l.94 2.06.94-2.06 2.06-.94-2.06-.94-.94-2.06-.94 2.06-2.06.94z\"/><path d=\"M17.41 7.96l-1.37-1.37c-.4-.4-.92-.59-1.43-.59-.52 0-1.04.2-1.43.59L10.3 9.45l-7.72 7.72c-.78.78-.78 2.05 0 2.83L4 21.41c.39.39.9.59 1.41.59.51 0 1.02-.2 1.41-.59l7.78-7.78 2.81-2.81c.8-.78.8-2.07 0-2.86zM5.41 20L4 18.59l7.72-7.72 1.47 1.35L5.41 20z\"/>\n",
              "  </svg>\n",
              "      </button>\n",
              "      \n",
              "  <style>\n",
              "    .colab-df-container {\n",
              "      display:flex;\n",
              "      flex-wrap:wrap;\n",
              "      gap: 12px;\n",
              "    }\n",
              "\n",
              "    .colab-df-convert {\n",
              "      background-color: #E8F0FE;\n",
              "      border: none;\n",
              "      border-radius: 50%;\n",
              "      cursor: pointer;\n",
              "      display: none;\n",
              "      fill: #1967D2;\n",
              "      height: 32px;\n",
              "      padding: 0 0 0 0;\n",
              "      width: 32px;\n",
              "    }\n",
              "\n",
              "    .colab-df-convert:hover {\n",
              "      background-color: #E2EBFA;\n",
              "      box-shadow: 0px 1px 2px rgba(60, 64, 67, 0.3), 0px 1px 3px 1px rgba(60, 64, 67, 0.15);\n",
              "      fill: #174EA6;\n",
              "    }\n",
              "\n",
              "    [theme=dark] .colab-df-convert {\n",
              "      background-color: #3B4455;\n",
              "      fill: #D2E3FC;\n",
              "    }\n",
              "\n",
              "    [theme=dark] .colab-df-convert:hover {\n",
              "      background-color: #434B5C;\n",
              "      box-shadow: 0px 1px 3px 1px rgba(0, 0, 0, 0.15);\n",
              "      filter: drop-shadow(0px 1px 2px rgba(0, 0, 0, 0.3));\n",
              "      fill: #FFFFFF;\n",
              "    }\n",
              "  </style>\n",
              "\n",
              "      <script>\n",
              "        const buttonEl =\n",
              "          document.querySelector('#df-bf198dbb-7e41-47e8-a3d0-4dc2e1135246 button.colab-df-convert');\n",
              "        buttonEl.style.display =\n",
              "          google.colab.kernel.accessAllowed ? 'block' : 'none';\n",
              "\n",
              "        async function convertToInteractive(key) {\n",
              "          const element = document.querySelector('#df-bf198dbb-7e41-47e8-a3d0-4dc2e1135246');\n",
              "          const dataTable =\n",
              "            await google.colab.kernel.invokeFunction('convertToInteractive',\n",
              "                                                     [key], {});\n",
              "          if (!dataTable) return;\n",
              "\n",
              "          const docLinkHtml = 'Like what you see? Visit the ' +\n",
              "            '<a target=\"_blank\" href=https://colab.research.google.com/notebooks/data_table.ipynb>data table notebook</a>'\n",
              "            + ' to learn more about interactive tables.';\n",
              "          element.innerHTML = '';\n",
              "          dataTable['output_type'] = 'display_data';\n",
              "          await google.colab.output.renderOutput(dataTable, element);\n",
              "          const docLink = document.createElement('div');\n",
              "          docLink.innerHTML = docLinkHtml;\n",
              "          element.appendChild(docLink);\n",
              "        }\n",
              "      </script>\n",
              "    </div>\n",
              "  </div>\n",
              "  "
            ]
          },
          "metadata": {},
          "execution_count": 5
        }
      ]
    },
    {
      "cell_type": "code",
      "source": [
        "df.isna()"
      ],
      "metadata": {
        "colab": {
          "base_uri": "https://localhost:8080/",
          "height": 424
        },
        "id": "v-bjiRFDN_U4",
        "outputId": "adeb89d2-b428-4d18-cff0-7a34c75c4d9a"
      },
      "execution_count": 6,
      "outputs": [
        {
          "output_type": "execute_result",
          "data": {
            "text/plain": [
              "     gender  race/ethnicity  parental level of education  lunch  \\\n",
              "0     False           False                        False  False   \n",
              "1     False           False                        False  False   \n",
              "2     False           False                        False  False   \n",
              "3     False           False                        False  False   \n",
              "4     False           False                        False  False   \n",
              "..      ...             ...                          ...    ...   \n",
              "995   False           False                        False  False   \n",
              "996   False           False                        False  False   \n",
              "997   False           False                        False  False   \n",
              "998   False           False                        False  False   \n",
              "999   False           False                        False  False   \n",
              "\n",
              "     test preparation course  math score  reading score  writing score  \n",
              "0                      False       False          False          False  \n",
              "1                      False       False          False          False  \n",
              "2                      False       False          False          False  \n",
              "3                      False       False          False          False  \n",
              "4                      False       False          False          False  \n",
              "..                       ...         ...            ...            ...  \n",
              "995                    False       False          False          False  \n",
              "996                    False       False          False          False  \n",
              "997                    False       False          False          False  \n",
              "998                    False       False          False          False  \n",
              "999                    False       False          False          False  \n",
              "\n",
              "[1000 rows x 8 columns]"
            ],
            "text/html": [
              "\n",
              "  <div id=\"df-1932becb-c8a6-48ba-ade7-adc813d1c71e\">\n",
              "    <div class=\"colab-df-container\">\n",
              "      <div>\n",
              "<style scoped>\n",
              "    .dataframe tbody tr th:only-of-type {\n",
              "        vertical-align: middle;\n",
              "    }\n",
              "\n",
              "    .dataframe tbody tr th {\n",
              "        vertical-align: top;\n",
              "    }\n",
              "\n",
              "    .dataframe thead th {\n",
              "        text-align: right;\n",
              "    }\n",
              "</style>\n",
              "<table border=\"1\" class=\"dataframe\">\n",
              "  <thead>\n",
              "    <tr style=\"text-align: right;\">\n",
              "      <th></th>\n",
              "      <th>gender</th>\n",
              "      <th>race/ethnicity</th>\n",
              "      <th>parental level of education</th>\n",
              "      <th>lunch</th>\n",
              "      <th>test preparation course</th>\n",
              "      <th>math score</th>\n",
              "      <th>reading score</th>\n",
              "      <th>writing score</th>\n",
              "    </tr>\n",
              "  </thead>\n",
              "  <tbody>\n",
              "    <tr>\n",
              "      <th>0</th>\n",
              "      <td>False</td>\n",
              "      <td>False</td>\n",
              "      <td>False</td>\n",
              "      <td>False</td>\n",
              "      <td>False</td>\n",
              "      <td>False</td>\n",
              "      <td>False</td>\n",
              "      <td>False</td>\n",
              "    </tr>\n",
              "    <tr>\n",
              "      <th>1</th>\n",
              "      <td>False</td>\n",
              "      <td>False</td>\n",
              "      <td>False</td>\n",
              "      <td>False</td>\n",
              "      <td>False</td>\n",
              "      <td>False</td>\n",
              "      <td>False</td>\n",
              "      <td>False</td>\n",
              "    </tr>\n",
              "    <tr>\n",
              "      <th>2</th>\n",
              "      <td>False</td>\n",
              "      <td>False</td>\n",
              "      <td>False</td>\n",
              "      <td>False</td>\n",
              "      <td>False</td>\n",
              "      <td>False</td>\n",
              "      <td>False</td>\n",
              "      <td>False</td>\n",
              "    </tr>\n",
              "    <tr>\n",
              "      <th>3</th>\n",
              "      <td>False</td>\n",
              "      <td>False</td>\n",
              "      <td>False</td>\n",
              "      <td>False</td>\n",
              "      <td>False</td>\n",
              "      <td>False</td>\n",
              "      <td>False</td>\n",
              "      <td>False</td>\n",
              "    </tr>\n",
              "    <tr>\n",
              "      <th>4</th>\n",
              "      <td>False</td>\n",
              "      <td>False</td>\n",
              "      <td>False</td>\n",
              "      <td>False</td>\n",
              "      <td>False</td>\n",
              "      <td>False</td>\n",
              "      <td>False</td>\n",
              "      <td>False</td>\n",
              "    </tr>\n",
              "    <tr>\n",
              "      <th>...</th>\n",
              "      <td>...</td>\n",
              "      <td>...</td>\n",
              "      <td>...</td>\n",
              "      <td>...</td>\n",
              "      <td>...</td>\n",
              "      <td>...</td>\n",
              "      <td>...</td>\n",
              "      <td>...</td>\n",
              "    </tr>\n",
              "    <tr>\n",
              "      <th>995</th>\n",
              "      <td>False</td>\n",
              "      <td>False</td>\n",
              "      <td>False</td>\n",
              "      <td>False</td>\n",
              "      <td>False</td>\n",
              "      <td>False</td>\n",
              "      <td>False</td>\n",
              "      <td>False</td>\n",
              "    </tr>\n",
              "    <tr>\n",
              "      <th>996</th>\n",
              "      <td>False</td>\n",
              "      <td>False</td>\n",
              "      <td>False</td>\n",
              "      <td>False</td>\n",
              "      <td>False</td>\n",
              "      <td>False</td>\n",
              "      <td>False</td>\n",
              "      <td>False</td>\n",
              "    </tr>\n",
              "    <tr>\n",
              "      <th>997</th>\n",
              "      <td>False</td>\n",
              "      <td>False</td>\n",
              "      <td>False</td>\n",
              "      <td>False</td>\n",
              "      <td>False</td>\n",
              "      <td>False</td>\n",
              "      <td>False</td>\n",
              "      <td>False</td>\n",
              "    </tr>\n",
              "    <tr>\n",
              "      <th>998</th>\n",
              "      <td>False</td>\n",
              "      <td>False</td>\n",
              "      <td>False</td>\n",
              "      <td>False</td>\n",
              "      <td>False</td>\n",
              "      <td>False</td>\n",
              "      <td>False</td>\n",
              "      <td>False</td>\n",
              "    </tr>\n",
              "    <tr>\n",
              "      <th>999</th>\n",
              "      <td>False</td>\n",
              "      <td>False</td>\n",
              "      <td>False</td>\n",
              "      <td>False</td>\n",
              "      <td>False</td>\n",
              "      <td>False</td>\n",
              "      <td>False</td>\n",
              "      <td>False</td>\n",
              "    </tr>\n",
              "  </tbody>\n",
              "</table>\n",
              "<p>1000 rows × 8 columns</p>\n",
              "</div>\n",
              "      <button class=\"colab-df-convert\" onclick=\"convertToInteractive('df-1932becb-c8a6-48ba-ade7-adc813d1c71e')\"\n",
              "              title=\"Convert this dataframe to an interactive table.\"\n",
              "              style=\"display:none;\">\n",
              "        \n",
              "  <svg xmlns=\"http://www.w3.org/2000/svg\" height=\"24px\"viewBox=\"0 0 24 24\"\n",
              "       width=\"24px\">\n",
              "    <path d=\"M0 0h24v24H0V0z\" fill=\"none\"/>\n",
              "    <path d=\"M18.56 5.44l.94 2.06.94-2.06 2.06-.94-2.06-.94-.94-2.06-.94 2.06-2.06.94zm-11 1L8.5 8.5l.94-2.06 2.06-.94-2.06-.94L8.5 2.5l-.94 2.06-2.06.94zm10 10l.94 2.06.94-2.06 2.06-.94-2.06-.94-.94-2.06-.94 2.06-2.06.94z\"/><path d=\"M17.41 7.96l-1.37-1.37c-.4-.4-.92-.59-1.43-.59-.52 0-1.04.2-1.43.59L10.3 9.45l-7.72 7.72c-.78.78-.78 2.05 0 2.83L4 21.41c.39.39.9.59 1.41.59.51 0 1.02-.2 1.41-.59l7.78-7.78 2.81-2.81c.8-.78.8-2.07 0-2.86zM5.41 20L4 18.59l7.72-7.72 1.47 1.35L5.41 20z\"/>\n",
              "  </svg>\n",
              "      </button>\n",
              "      \n",
              "  <style>\n",
              "    .colab-df-container {\n",
              "      display:flex;\n",
              "      flex-wrap:wrap;\n",
              "      gap: 12px;\n",
              "    }\n",
              "\n",
              "    .colab-df-convert {\n",
              "      background-color: #E8F0FE;\n",
              "      border: none;\n",
              "      border-radius: 50%;\n",
              "      cursor: pointer;\n",
              "      display: none;\n",
              "      fill: #1967D2;\n",
              "      height: 32px;\n",
              "      padding: 0 0 0 0;\n",
              "      width: 32px;\n",
              "    }\n",
              "\n",
              "    .colab-df-convert:hover {\n",
              "      background-color: #E2EBFA;\n",
              "      box-shadow: 0px 1px 2px rgba(60, 64, 67, 0.3), 0px 1px 3px 1px rgba(60, 64, 67, 0.15);\n",
              "      fill: #174EA6;\n",
              "    }\n",
              "\n",
              "    [theme=dark] .colab-df-convert {\n",
              "      background-color: #3B4455;\n",
              "      fill: #D2E3FC;\n",
              "    }\n",
              "\n",
              "    [theme=dark] .colab-df-convert:hover {\n",
              "      background-color: #434B5C;\n",
              "      box-shadow: 0px 1px 3px 1px rgba(0, 0, 0, 0.15);\n",
              "      filter: drop-shadow(0px 1px 2px rgba(0, 0, 0, 0.3));\n",
              "      fill: #FFFFFF;\n",
              "    }\n",
              "  </style>\n",
              "\n",
              "      <script>\n",
              "        const buttonEl =\n",
              "          document.querySelector('#df-1932becb-c8a6-48ba-ade7-adc813d1c71e button.colab-df-convert');\n",
              "        buttonEl.style.display =\n",
              "          google.colab.kernel.accessAllowed ? 'block' : 'none';\n",
              "\n",
              "        async function convertToInteractive(key) {\n",
              "          const element = document.querySelector('#df-1932becb-c8a6-48ba-ade7-adc813d1c71e');\n",
              "          const dataTable =\n",
              "            await google.colab.kernel.invokeFunction('convertToInteractive',\n",
              "                                                     [key], {});\n",
              "          if (!dataTable) return;\n",
              "\n",
              "          const docLinkHtml = 'Like what you see? Visit the ' +\n",
              "            '<a target=\"_blank\" href=https://colab.research.google.com/notebooks/data_table.ipynb>data table notebook</a>'\n",
              "            + ' to learn more about interactive tables.';\n",
              "          element.innerHTML = '';\n",
              "          dataTable['output_type'] = 'display_data';\n",
              "          await google.colab.output.renderOutput(dataTable, element);\n",
              "          const docLink = document.createElement('div');\n",
              "          docLink.innerHTML = docLinkHtml;\n",
              "          element.appendChild(docLink);\n",
              "        }\n",
              "      </script>\n",
              "    </div>\n",
              "  </div>\n",
              "  "
            ]
          },
          "metadata": {},
          "execution_count": 6
        }
      ]
    },
    {
      "cell_type": "code",
      "source": [
        "df.shape"
      ],
      "metadata": {
        "colab": {
          "base_uri": "https://localhost:8080/"
        },
        "id": "hnr1n-wmVtXa",
        "outputId": "44094a29-9fa7-45a3-971f-ce8cf4d53d43"
      },
      "execution_count": 7,
      "outputs": [
        {
          "output_type": "execute_result",
          "data": {
            "text/plain": [
              "(1000, 8)"
            ]
          },
          "metadata": {},
          "execution_count": 7
        }
      ]
    },
    {
      "cell_type": "code",
      "source": [
        "df.isna().sum()"
      ],
      "metadata": {
        "colab": {
          "base_uri": "https://localhost:8080/"
        },
        "id": "1JE96XzdOOIQ",
        "outputId": "bd23ad87-79d9-425e-a91c-d3c8f740b24d"
      },
      "execution_count": 8,
      "outputs": [
        {
          "output_type": "execute_result",
          "data": {
            "text/plain": [
              "gender                         0\n",
              "race/ethnicity                 0\n",
              "parental level of education    0\n",
              "lunch                          0\n",
              "test preparation course        0\n",
              "math score                     0\n",
              "reading score                  0\n",
              "writing score                  0\n",
              "dtype: int64"
            ]
          },
          "metadata": {},
          "execution_count": 8
        }
      ]
    },
    {
      "cell_type": "code",
      "source": [
        "df.dtypes"
      ],
      "metadata": {
        "colab": {
          "base_uri": "https://localhost:8080/"
        },
        "id": "9al2T79BVyYA",
        "outputId": "2326d33c-e393-441a-f70a-ec493b438349"
      },
      "execution_count": 9,
      "outputs": [
        {
          "output_type": "execute_result",
          "data": {
            "text/plain": [
              "gender                         object\n",
              "race/ethnicity                 object\n",
              "parental level of education    object\n",
              "lunch                          object\n",
              "test preparation course        object\n",
              "math score                      int64\n",
              "reading score                   int64\n",
              "writing score                   int64\n",
              "dtype: object"
            ]
          },
          "metadata": {},
          "execution_count": 9
        }
      ]
    },
    {
      "cell_type": "code",
      "source": [
        "df['gender'].value_counts() ## no of males and females"
      ],
      "metadata": {
        "colab": {
          "base_uri": "https://localhost:8080/"
        },
        "id": "rFqspmEAXOJB",
        "outputId": "3c45da0f-d2a1-4a49-dae2-e0f57d3c0853"
      },
      "execution_count": 60,
      "outputs": [
        {
          "output_type": "execute_result",
          "data": {
            "text/plain": [
              "female    518\n",
              "male      482\n",
              "Name: gender, dtype: int64"
            ]
          },
          "metadata": {},
          "execution_count": 60
        }
      ]
    },
    {
      "cell_type": "code",
      "source": [
        "df['parental level of education'].value_counts() ## no of parental level of education"
      ],
      "metadata": {
        "colab": {
          "base_uri": "https://localhost:8080/"
        },
        "id": "SdUnthxUXcrw",
        "outputId": "b2842532-0734-4dec-f159-88f5cd3c1a3e"
      },
      "execution_count": 61,
      "outputs": [
        {
          "output_type": "execute_result",
          "data": {
            "text/plain": [
              "some college          226\n",
              "associate's degree    222\n",
              "high school           196\n",
              "some high school      179\n",
              "bachelor's degree     118\n",
              "master's degree        59\n",
              "Name: parental level of education, dtype: int64"
            ]
          },
          "metadata": {},
          "execution_count": 61
        }
      ]
    },
    {
      "cell_type": "code",
      "source": [
        "df['race/ethnicity'].value_counts() ## no of race/ethnicity"
      ],
      "metadata": {
        "colab": {
          "base_uri": "https://localhost:8080/"
        },
        "id": "a_baFMqNXigm",
        "outputId": "398131e4-a2c5-4732-ab6f-de7f82ad0935"
      },
      "execution_count": 62,
      "outputs": [
        {
          "output_type": "execute_result",
          "data": {
            "text/plain": [
              "group C    319\n",
              "group D    262\n",
              "group B    190\n",
              "group E    140\n",
              "group A     89\n",
              "Name: race/ethnicity, dtype: int64"
            ]
          },
          "metadata": {},
          "execution_count": 62
        }
      ]
    },
    {
      "cell_type": "code",
      "source": [
        "df['lunch'].value_counts()"
      ],
      "metadata": {
        "colab": {
          "base_uri": "https://localhost:8080/"
        },
        "id": "McXWYCfmXpYp",
        "outputId": "7646fbc3-d401-4416-a8f5-5c0a807796c7"
      },
      "execution_count": 13,
      "outputs": [
        {
          "output_type": "execute_result",
          "data": {
            "text/plain": [
              "standard        645\n",
              "free/reduced    355\n",
              "Name: lunch, dtype: int64"
            ]
          },
          "metadata": {},
          "execution_count": 13
        }
      ]
    },
    {
      "cell_type": "code",
      "source": [
        "df['test preparation course'].value_counts()"
      ],
      "metadata": {
        "colab": {
          "base_uri": "https://localhost:8080/"
        },
        "id": "YdqpvsusXwoS",
        "outputId": "6f444e49-8b96-4259-fa50-b1e9fe07c6de"
      },
      "execution_count": 14,
      "outputs": [
        {
          "output_type": "execute_result",
          "data": {
            "text/plain": [
              "none         642\n",
              "completed    358\n",
              "Name: test preparation course, dtype: int64"
            ]
          },
          "metadata": {},
          "execution_count": 14
        }
      ]
    },
    {
      "cell_type": "code",
      "source": [
        "plt.hist(df['gender'])\n",
        "plt.show()"
      ],
      "metadata": {
        "colab": {
          "base_uri": "https://localhost:8080/",
          "height": 265
        },
        "id": "I2ih1Tu3OVop",
        "outputId": "a164a1bb-7b42-4ea3-c8fd-3b9561df92de"
      },
      "execution_count": 15,
      "outputs": [
        {
          "output_type": "display_data",
          "data": {
            "text/plain": [
              "<Figure size 432x288 with 1 Axes>"
            ],
            "image/png": "[encoded data removed]"
          },
          "metadata": {
            "needs_background": "light"
          }
        }
      ]
    },
    {
      "cell_type": "code",
      "source": [
        "plt.hist(df['math score'])\n",
        "plt.show()"
      ],
      "metadata": {
        "colab": {
          "base_uri": "https://localhost:8080/",
          "height": 265
        },
        "id": "0NXUjsCyPnux",
        "outputId": "265422a8-b573-477c-a5ca-c48d1c0ad7a7"
      },
      "execution_count": 16,
      "outputs": [
        {
          "output_type": "display_data",
          "data": {
            "text/plain": [
              "<Figure size 432x288 with 1 Axes>"
            ],
            "image/png": "[encoded data removed]"
          },
          "metadata": {
            "needs_background": "light"
          }
        }
      ]
    },
    {
      "cell_type": "code",
      "source": [
        "plt.hist(df['reading score'])\n",
        "plt.show()"
      ],
      "metadata": {
        "colab": {
          "base_uri": "https://localhost:8080/",
          "height": 265
        },
        "id": "jkBsSwdqT34p",
        "outputId": "0d55bf7e-9bbb-420c-a8ab-a59240312126"
      },
      "execution_count": 17,
      "outputs": [
        {
          "output_type": "display_data",
          "data": {
            "text/plain": [
              "<Figure size 432x288 with 1 Axes>"
            ],
            "image/png": "[encoded data removed]"
          },
          "metadata": {
            "needs_background": "light"
          }
        }
      ]
    },
    {
      "cell_type": "code",
      "source": [
        "plt.hist(df['writing score'])\n",
        "plt.show()"
      ],
      "metadata": {
        "colab": {
          "base_uri": "https://localhost:8080/",
          "height": 265
        },
        "id": "BLsrN06lUDvY",
        "outputId": "cdd774d1-8c80-4918-aa11-9f0c6cb12962"
      },
      "execution_count": 18,
      "outputs": [
        {
          "output_type": "display_data",
          "data": {
            "text/plain": [
              "<Figure size 432x288 with 1 Axes>"
            ],
            "image/png": "[encoded data removed]"
          },
          "metadata": {
            "needs_background": "light"
          }
        }
      ]
    },
    {
      "cell_type": "code",
      "source": [
        "## Bar Diagram showing details of student  participated in the test\n",
        "plt.bar(df['gender'],df['test preparation course'])\n",
        "plt.title('Details of student  participated in the test')\n",
        "plt.xticks(rotation = 45)\n",
        "plt.show()"
      ],
      "metadata": {
        "colab": {
          "base_uri": "https://localhost:8080/",
          "height": 303
        },
        "id": "ipQg08h8Q_Do",
        "outputId": "e859580a-743a-429b-8973-02b7a79dd5a0"
      },
      "execution_count": 19,
      "outputs": [
        {
          "output_type": "display_data",
          "data": {
            "text/plain": [
              "<Figure size 432x288 with 1 Axes>"
            ],
            "image/png": "[encoded data removed]"
          },
          "metadata": {
            "needs_background": "light"
          }
        }
      ]
    },
    {
      "cell_type": "code",
      "source": [
        "## Students parental level of education\n",
        "pe = ['1','2','3','4','5','6']\n",
        "parental_education = df['parental level of education'].value_counts()\n",
        "fig = plt.figure(figsize =(10,5))\n",
        "plt.pie(parental_education,labels = pe )\n",
        "plt.show()\n",
        "print ('1-some college, 2-associates degree,3-high school,4-some high school,5-bachelors degree,6-masters degree ')"
      ],
      "metadata": {
        "colab": {
          "base_uri": "https://localhost:8080/",
          "height": 320
        },
        "id": "1O368JNRexn4",
        "outputId": "d67e576b-88b3-4b6e-ee81-ec0a5dc91eee"
      },
      "execution_count": 29,
      "outputs": [
        {
          "output_type": "display_data",
          "data": {
            "text/plain": [
              "<Figure size 720x360 with 1 Axes>"
            ],
            "image/png": "[encoded data removed]"
          },
          "metadata": {}
        },
        {
          "output_type": "stream",
          "name": "stdout",
          "text": [
            "1-some college, 2-associates degree,3-high school,4-some high school,5-bachelors degree,6-masters degree \n"
          ]
        }
      ]
    },
    {
      "cell_type": "code",
      "source": [
        "##Adding columns “total” and “average” to the dataset\n",
        "df['total'] = df['math score'] + df['reading score'] + df['writing score']\n",
        "df['average'] = df['total'] / 3\n",
        "df.head()"
      ],
      "metadata": {
        "colab": {
          "base_uri": "https://localhost:8080/",
          "height": 267
        },
        "id": "LShELur6jeyw",
        "outputId": "b107f206-c035-4c28-fa0a-f5abaf226797"
      },
      "execution_count": 31,
      "outputs": [
        {
          "output_type": "execute_result",
          "data": {
            "text/plain": [
              "   gender race/ethnicity parental level of education         lunch  \\\n",
              "0  female        group C            some high school  free/reduced   \n",
              "1  female        group B                 high school  free/reduced   \n",
              "2  female        group B            some high school  free/reduced   \n",
              "3  female        group B                some college      standard   \n",
              "4  female        group C                some college  free/reduced   \n",
              "\n",
              "  test preparation course  math score  reading score  writing score  total  \\\n",
              "0                    none           0             17             10     27   \n",
              "1                    none           8             24             23     55   \n",
              "2                    none          18             32             28     78   \n",
              "3                    none          11             38             32     81   \n",
              "4                    none          22             39             33     94   \n",
              "\n",
              "     average  \n",
              "0   9.000000  \n",
              "1  18.333333  \n",
              "2  26.000000  \n",
              "3  27.000000  \n",
              "4  31.333333  "
            ],
            "text/html": [
              "\n",
              "  <div id=\"df-e8df20e8-85c1-4059-ae61-18ff23bee119\">\n",
              "    <div class=\"colab-df-container\">\n",
              "      <div>\n",
              "<style scoped>\n",
              "    .dataframe tbody tr th:only-of-type {\n",
              "        vertical-align: middle;\n",
              "    }\n",
              "\n",
              "    .dataframe tbody tr th {\n",
              "        vertical-align: top;\n",
              "    }\n",
              "\n",
              "    .dataframe thead th {\n",
              "        text-align: right;\n",
              "    }\n",
              "</style>\n",
              "<table border=\"1\" class=\"dataframe\">\n",
              "  <thead>\n",
              "    <tr style=\"text-align: right;\">\n",
              "      <th></th>\n",
              "      <th>gender</th>\n",
              "      <th>race/ethnicity</th>\n",
              "      <th>parental level of education</th>\n",
              "      <th>lunch</th>\n",
              "      <th>test preparation course</th>\n",
              "      <th>math score</th>\n",
              "      <th>reading score</th>\n",
              "      <th>writing score</th>\n",
              "      <th>total</th>\n",
              "      <th>average</th>\n",
              "    </tr>\n",
              "  </thead>\n",
              "  <tbody>\n",
              "    <tr>\n",
              "      <th>0</th>\n",
              "      <td>female</td>\n",
              "      <td>group C</td>\n",
              "      <td>some high school</td>\n",
              "      <td>free/reduced</td>\n",
              "      <td>none</td>\n",
              "      <td>0</td>\n",
              "      <td>17</td>\n",
              "      <td>10</td>\n",
              "      <td>27</td>\n",
              "      <td>9.000000</td>\n",
              "    </tr>\n",
              "    <tr>\n",
              "      <th>1</th>\n",
              "      <td>female</td>\n",
              "      <td>group B</td>\n",
              "      <td>high school</td>\n",
              "      <td>free/reduced</td>\n",
              "      <td>none</td>\n",
              "      <td>8</td>\n",
              "      <td>24</td>\n",
              "      <td>23</td>\n",
              "      <td>55</td>\n",
              "      <td>18.333333</td>\n",
              "    </tr>\n",
              "    <tr>\n",
              "      <th>2</th>\n",
              "      <td>female</td>\n",
              "      <td>group B</td>\n",
              "      <td>some high school</td>\n",
              "      <td>free/reduced</td>\n",
              "      <td>none</td>\n",
              "      <td>18</td>\n",
              "      <td>32</td>\n",
              "      <td>28</td>\n",
              "      <td>78</td>\n",
              "      <td>26.000000</td>\n",
              "    </tr>\n",
              "    <tr>\n",
              "      <th>3</th>\n",
              "      <td>female</td>\n",
              "      <td>group B</td>\n",
              "      <td>some college</td>\n",
              "      <td>standard</td>\n",
              "      <td>none</td>\n",
              "      <td>11</td>\n",
              "      <td>38</td>\n",
              "      <td>32</td>\n",
              "      <td>81</td>\n",
              "      <td>27.000000</td>\n",
              "    </tr>\n",
              "    <tr>\n",
              "      <th>4</th>\n",
              "      <td>female</td>\n",
              "      <td>group C</td>\n",
              "      <td>some college</td>\n",
              "      <td>free/reduced</td>\n",
              "      <td>none</td>\n",
              "      <td>22</td>\n",
              "      <td>39</td>\n",
              "      <td>33</td>\n",
              "      <td>94</td>\n",
              "      <td>31.333333</td>\n",
              "    </tr>\n",
              "  </tbody>\n",
              "</table>\n",
              "</div>\n",
              "      <button class=\"colab-df-convert\" onclick=\"convertToInteractive('df-e8df20e8-85c1-4059-ae61-18ff23bee119')\"\n",
              "              title=\"Convert this dataframe to an interactive table.\"\n",
              "              style=\"display:none;\">\n",
              "        \n",
              "  <svg xmlns=\"http://www.w3.org/2000/svg\" height=\"24px\"viewBox=\"0 0 24 24\"\n",
              "       width=\"24px\">\n",
              "    <path d=\"M0 0h24v24H0V0z\" fill=\"none\"/>\n",
              "    <path d=\"M18.56 5.44l.94 2.06.94-2.06 2.06-.94-2.06-.94-.94-2.06-.94 2.06-2.06.94zm-11 1L8.5 8.5l.94-2.06 2.06-.94-2.06-.94L8.5 2.5l-.94 2.06-2.06.94zm10 10l.94 2.06.94-2.06 2.06-.94-2.06-.94-.94-2.06-.94 2.06-2.06.94z\"/><path d=\"M17.41 7.96l-1.37-1.37c-.4-.4-.92-.59-1.43-.59-.52 0-1.04.2-1.43.59L10.3 9.45l-7.72 7.72c-.78.78-.78 2.05 0 2.83L4 21.41c.39.39.9.59 1.41.59.51 0 1.02-.2 1.41-.59l7.78-7.78 2.81-2.81c.8-.78.8-2.07 0-2.86zM5.41 20L4 18.59l7.72-7.72 1.47 1.35L5.41 20z\"/>\n",
              "  </svg>\n",
              "      </button>\n",
              "      \n",
              "  <style>\n",
              "    .colab-df-container {\n",
              "      display:flex;\n",
              "      flex-wrap:wrap;\n",
              "      gap: 12px;\n",
              "    }\n",
              "\n",
              "    .colab-df-convert {\n",
              "      background-color: #E8F0FE;\n",
              "      border: none;\n",
              "      border-radius: 50%;\n",
              "      cursor: pointer;\n",
              "      display: none;\n",
              "      fill: #1967D2;\n",
              "      height: 32px;\n",
              "      padding: 0 0 0 0;\n",
              "      width: 32px;\n",
              "    }\n",
              "\n",
              "    .colab-df-convert:hover {\n",
              "      background-color: #E2EBFA;\n",
              "      box-shadow: 0px 1px 2px rgba(60, 64, 67, 0.3), 0px 1px 3px 1px rgba(60, 64, 67, 0.15);\n",
              "      fill: #174EA6;\n",
              "    }\n",
              "\n",
              "    [theme=dark] .colab-df-convert {\n",
              "      background-color: #3B4455;\n",
              "      fill: #D2E3FC;\n",
              "    }\n",
              "\n",
              "    [theme=dark] .colab-df-convert:hover {\n",
              "      background-color: #434B5C;\n",
              "      box-shadow: 0px 1px 3px 1px rgba(0, 0, 0, 0.15);\n",
              "      filter: drop-shadow(0px 1px 2px rgba(0, 0, 0, 0.3));\n",
              "      fill: #FFFFFF;\n",
              "    }\n",
              "  </style>\n",
              "\n",
              "      <script>\n",
              "        const buttonEl =\n",
              "          document.querySelector('#df-e8df20e8-85c1-4059-ae61-18ff23bee119 button.colab-df-convert');\n",
              "        buttonEl.style.display =\n",
              "          google.colab.kernel.accessAllowed ? 'block' : 'none';\n",
              "\n",
              "        async function convertToInteractive(key) {\n",
              "          const element = document.querySelector('#df-e8df20e8-85c1-4059-ae61-18ff23bee119');\n",
              "          const dataTable =\n",
              "            await google.colab.kernel.invokeFunction('convertToInteractive',\n",
              "                                                     [key], {});\n",
              "          if (!dataTable) return;\n",
              "\n",
              "          const docLinkHtml = 'Like what you see? Visit the ' +\n",
              "            '<a target=\"_blank\" href=https://colab.research.google.com/notebooks/data_table.ipynb>data table notebook</a>'\n",
              "            + ' to learn more about interactive tables.';\n",
              "          element.innerHTML = '';\n",
              "          dataTable['output_type'] = 'display_data';\n",
              "          await google.colab.output.renderOutput(dataTable, element);\n",
              "          const docLink = document.createElement('div');\n",
              "          docLink.innerHTML = docLinkHtml;\n",
              "          element.appendChild(docLink);\n",
              "        }\n",
              "      </script>\n",
              "    </div>\n",
              "  </div>\n",
              "  "
            ]
          },
          "metadata": {},
          "execution_count": 31
        }
      ]
    },
    {
      "cell_type": "code",
      "source": [
        "##analyzing Who scores the most on average for math, reading and writing based on gender\n",
        "sns.barplot(df['gender'], df['average'])"
      ],
      "metadata": {
        "colab": {
          "base_uri": "https://localhost:8080/",
          "height": 351
        },
        "id": "q2ARl4DskAUN",
        "outputId": "94ceaea5-bd4b-4924-99a7-4d2aa50d56d9"
      },
      "execution_count": 37,
      "outputs": [
        {
          "output_type": "stream",
          "name": "stderr",
          "text": [
            "/usr/local/lib/python3.7/dist-packages/seaborn/_decorators.py:43: FutureWarning: Pass the following variables as keyword args: x, y. From version 0.12, the only valid positional argument will be `data`, and passing other arguments without an explicit keyword will result in an error or misinterpretation.\n",
            "  FutureWarning\n"
          ]
        },
        {
          "output_type": "execute_result",
          "data": {
            "text/plain": [
              "<matplotlib.axes._subplots.AxesSubplot at 0x7fd2b43ea650>"
            ]
          },
          "metadata": {},
          "execution_count": 37
        },
        {
          "output_type": "display_data",
          "data": {
            "text/plain": [
              "<Figure size 432x288 with 1 Axes>"
            ],
            "image/png": "[encoded data removed]"
          },
          "metadata": {
            "needs_background": "light"
          }
        }
      ]
    },
    {
      "cell_type": "code",
      "source": [
        "##analyzing Who scores the most on average for math, reading and writing based on test preparation course\n",
        "sns.barplot(df['test preparation course'], df['average'])"
      ],
      "metadata": {
        "colab": {
          "base_uri": "https://localhost:8080/",
          "height": 351
        },
        "id": "quFe0gdvlLMf",
        "outputId": "97ca03f5-38e4-46fc-e4f4-46015ae129cf"
      },
      "execution_count": 38,
      "outputs": [
        {
          "output_type": "stream",
          "name": "stderr",
          "text": [
            "/usr/local/lib/python3.7/dist-packages/seaborn/_decorators.py:43: FutureWarning: Pass the following variables as keyword args: x, y. From version 0.12, the only valid positional argument will be `data`, and passing other arguments without an explicit keyword will result in an error or misinterpretation.\n",
            "  FutureWarning\n"
          ]
        },
        {
          "output_type": "execute_result",
          "data": {
            "text/plain": [
              "<matplotlib.axes._subplots.AxesSubplot at 0x7fd2b43368d0>"
            ]
          },
          "metadata": {},
          "execution_count": 38
        },
        {
          "output_type": "display_data",
          "data": {
            "text/plain": [
              "<Figure size 432x288 with 1 Axes>"
            ],
            "image/png": "[encoded data removed]"
          },
          "metadata": {
            "needs_background": "light"
          }
        }
      ]
    },
    {
      "cell_type": "code",
      "source": [
        "##top 25% ofstudents based on their math score\n",
        "df['math_PassStatus'] = np.where(df['math score']<40, 'F', 'P')\n",
        "df['math_PassStatus'].value_counts()"
      ],
      "metadata": {
        "colab": {
          "base_uri": "https://localhost:8080/"
        },
        "id": "Pq1hwfBHlcMB",
        "outputId": "101f0072-e563-4f0e-bd2e-08cbd8b2b394"
      },
      "execution_count": 59,
      "outputs": [
        {
          "output_type": "execute_result",
          "data": {
            "text/plain": [
              "P    950\n",
              "F     50\n",
              "Name: math_PassStatus, dtype: int64"
            ]
          },
          "metadata": {},
          "execution_count": 59
        }
      ]
    },
    {
      "cell_type": "code",
      "source": [
        "df['math_high'] = np.where(df['math score']>250, 'x','y')"
      ],
      "metadata": {
        "id": "s1hGzK1rpP9f"
      },
      "execution_count": 57,
      "outputs": []
    },
    {
      "cell_type": "code",
      "source": [
        "plt.hist(df['math_high'])\n",
        "plt.show()"
      ],
      "metadata": {
        "colab": {
          "base_uri": "https://localhost:8080/",
          "height": 265
        },
        "id": "gPBlgfAjpuiU",
        "outputId": "4dd0a688-2b02-4bb4-f420-a24aa1265205"
      },
      "execution_count": 58,
      "outputs": [
        {
          "output_type": "display_data",
          "data": {
            "text/plain": [
              "<Figure size 432x288 with 1 Axes>"
            ],
            "image/png": "[encoded data removed]"
          },
          "metadata": {
            "needs_background": "light"
          }
        }
      ]
    }
  ]
}