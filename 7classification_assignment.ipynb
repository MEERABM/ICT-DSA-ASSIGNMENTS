{
  "nbformat": 4,
  "nbformat_minor": 0,
  "metadata": {
    "colab": {
      "provenance": []
    },
    "kernelspec": {
      "name": "python3",
      "display_name": "Python 3"
    },
    "language_info": {
      "name": "python"
    }
  },
  "cells": [
    {
      "cell_type": "markdown",
      "source": [
        "Assignment on Classification Do the following in the iris dataset\n",
        "\n",
        "Read the dataset to python environment\n",
        "Do the necessary pre-processing steps\n",
        "Find out which classification model gives the best result (try all the classification algorithms discussed in the session)"
      ],
      "metadata": {
        "id": "8O_yq0L82lrf"
      }
    },
    {
      "cell_type": "code",
      "source": [
        "import numpy as np\n",
        "import pandas as pd\n",
        "import seaborn as sns\n",
        "import matplotlib.pyplot as plt\n",
        "from sklearn.preprocessing import MinMaxScaler"
      ],
      "metadata": {
        "id": "gvIi6A0d2oVX"
      },
      "execution_count": 1,
      "outputs": []
    },
    {
      "cell_type": "code",
      "source": [
        "from google.colab import files\n",
        "files.upload()"
      ],
      "metadata": {
        "colab": {
          "base_uri": "https://localhost:8080/",
          "height": 733
        },
        "id": "aB8Pb7NI2qyo",
        "outputId": "c79d8cbc-0441-4a47-c9b9-e728d54f067d"
      },
      "execution_count": 2,
      "outputs": [
        {
          "output_type": "display_data",
          "data": {
            "text/plain": [
              "<IPython.core.display.HTML object>"
            ],
            "text/html": [
              "\n",
              "     <input type=\"file\" id=\"files-12ba0db3-99a5-481d-acb4-8052d7b0b48f\" name=\"files[]\" multiple disabled\n",
              "        style=\"border:none\" />\n",
              "     <output id=\"result-12ba0db3-99a5-481d-acb4-8052d7b0b48f\">\n",
              "      Upload widget is only available when the cell has been executed in the\n",
              "      current browser session. Please rerun this cell to enable.\n",
              "      </output>\n",
              "      <script>// Copyright 2017 Google LLC\n",
              "//\n",
              "// Licensed under the Apache License, Version 2.0 (the \"License\");\n",
              "// you may not use this file except in compliance with the License.\n",
              "// You may obtain a copy of the License at\n",
              "//\n",
              "//      http://www.apache.org/licenses/LICENSE-2.0\n",
              "//\n",
              "// Unless required by applicable law or agreed to in writing, software\n",
              "// distributed under the License is distributed on an \"AS IS\" BASIS,\n",
              "// WITHOUT WARRANTIES OR CONDITIONS OF ANY KIND, either express or implied.\n",
              "// See the License for the specific language governing permissions and\n",
              "// limitations under the License.\n",
              "\n",
              "/**\n",
              " * @fileoverview Helpers for google.colab Python module.\n",
              " */\n",
              "(function(scope) {\n",
              "function span(text, styleAttributes = {}) {\n",
              "  const element = document.createElement('span');\n",
              "  element.textContent = text;\n",
              "  for (const key of Object.keys(styleAttributes)) {\n",
              "    element.style[key] = styleAttributes[key];\n",
              "  }\n",
              "  return element;\n",
              "}\n",
              "\n",
              "// Max number of bytes which will be uploaded at a time.\n",
              "const MAX_PAYLOAD_SIZE = 100 * 1024;\n",
              "\n",
              "function _uploadFiles(inputId, outputId) {\n",
              "  const steps = uploadFilesStep(inputId, outputId);\n",
              "  const outputElement = document.getElementById(outputId);\n",
              "  // Cache steps on the outputElement to make it available for the next call\n",
              "  // to uploadFilesContinue from Python.\n",
              "  outputElement.steps = steps;\n",
              "\n",
              "  return _uploadFilesContinue(outputId);\n",
              "}\n",
              "\n",
              "// This is roughly an async generator (not supported in the browser yet),\n",
              "// where there are multiple asynchronous steps and the Python side is going\n",
              "// to poll for completion of each step.\n",
              "// This uses a Promise to block the python side on completion of each step,\n",
              "// then passes the result of the previous step as the input to the next step.\n",
              "function _uploadFilesContinue(outputId) {\n",
              "  const outputElement = document.getElementById(outputId);\n",
              "  const steps = outputElement.steps;\n",
              "\n",
              "  const next = steps.next(outputElement.lastPromiseValue);\n",
              "  return Promise.resolve(next.value.promise).then((value) => {\n",
              "    // Cache the last promise value to make it available to the next\n",
              "    // step of the generator.\n",
              "    outputElement.lastPromiseValue = value;\n",
              "    return next.value.response;\n",
              "  });\n",
              "}\n",
              "\n",
              "/**\n",
              " * Generator function which is called between each async step of the upload\n",
              " * process.\n",
              " * @param {string} inputId Element ID of the input file picker element.\n",
              " * @param {string} outputId Element ID of the output display.\n",
              " * @return {!Iterable<!Object>} Iterable of next steps.\n",
              " */\n",
              "function* uploadFilesStep(inputId, outputId) {\n",
              "  const inputElement = document.getElementById(inputId);\n",
              "  inputElement.disabled = false;\n",
              "\n",
              "  const outputElement = document.getElementById(outputId);\n",
              "  outputElement.innerHTML = '';\n",
              "\n",
              "  const pickedPromise = new Promise((resolve) => {\n",
              "    inputElement.addEventListener('change', (e) => {\n",
              "      resolve(e.target.files);\n",
              "    });\n",
              "  });\n",
              "\n",
              "  const cancel = document.createElement('button');\n",
              "  inputElement.parentElement.appendChild(cancel);\n",
              "  cancel.textContent = 'Cancel upload';\n",
              "  const cancelPromise = new Promise((resolve) => {\n",
              "    cancel.onclick = () => {\n",
              "      resolve(null);\n",
              "    };\n",
              "  });\n",
              "\n",
              "  // Wait for the user to pick the files.\n",
              "  const files = yield {\n",
              "    promise: Promise.race([pickedPromise, cancelPromise]),\n",
              "    response: {\n",
              "      action: 'starting',\n",
              "    }\n",
              "  };\n",
              "\n",
              "  cancel.remove();\n",
              "\n",
              "  // Disable the input element since further picks are not allowed.\n",
              "  inputElement.disabled = true;\n",
              "\n",
              "  if (!files) {\n",
              "    return {\n",
              "      response: {\n",
              "        action: 'complete',\n",
              "      }\n",
              "    };\n",
              "  }\n",
              "\n",
              "  for (const file of files) {\n",
              "    const li = document.createElement('li');\n",
              "    li.append(span(file.name, {fontWeight: 'bold'}));\n",
              "    li.append(span(\n",
              "        `(${file.type || 'n/a'}) - ${file.size} bytes, ` +\n",
              "        `last modified: ${\n",
              "            file.lastModifiedDate ? file.lastModifiedDate.toLocaleDateString() :\n",
              "                                    'n/a'} - `));\n",
              "    const percent = span('0% done');\n",
              "    li.appendChild(percent);\n",
              "\n",
              "    outputElement.appendChild(li);\n",
              "\n",
              "    const fileDataPromise = new Promise((resolve) => {\n",
              "      const reader = new FileReader();\n",
              "      reader.onload = (e) => {\n",
              "        resolve(e.target.result);\n",
              "      };\n",
              "      reader.readAsArrayBuffer(file);\n",
              "    });\n",
              "    // Wait for the data to be ready.\n",
              "    let fileData = yield {\n",
              "      promise: fileDataPromise,\n",
              "      response: {\n",
              "        action: 'continue',\n",
              "      }\n",
              "    };\n",
              "\n",
              "    // Use a chunked sending to avoid message size limits. See b/62115660.\n",
              "    let position = 0;\n",
              "    do {\n",
              "      const length = Math.min(fileData.byteLength - position, MAX_PAYLOAD_SIZE);\n",
              "      const chunk = new Uint8Array(fileData, position, length);\n",
              "      position += length;\n",
              "\n",
              "      const base64 = btoa(String.fromCharCode.apply(null, chunk));\n",
              "      yield {\n",
              "        response: {\n",
              "          action: 'append',\n",
              "          file: file.name,\n",
              "          data: base64,\n",
              "        },\n",
              "      };\n",
              "\n",
              "      let percentDone = fileData.byteLength === 0 ?\n",
              "          100 :\n",
              "          Math.round((position / fileData.byteLength) * 100);\n",
              "      percent.textContent = `${percentDone}% done`;\n",
              "\n",
              "    } while (position < fileData.byteLength);\n",
              "  }\n",
              "\n",
              "  // All done.\n",
              "  yield {\n",
              "    response: {\n",
              "      action: 'complete',\n",
              "    }\n",
              "  };\n",
              "}\n",
              "\n",
              "scope.google = scope.google || {};\n",
              "scope.google.colab = scope.google.colab || {};\n",
              "scope.google.colab._files = {\n",
              "  _uploadFiles,\n",
              "  _uploadFilesContinue,\n",
              "};\n",
              "})(self);\n",
              "</script> "
            ]
          },
          "metadata": {}
        },
        {
          "output_type": "stream",
          "name": "stdout",
          "text": [
            "Saving iris.csv to iris.csv\n"
          ]
        },
        {
          "output_type": "execute_result",
          "data": {
            "text/plain": [
              "{'iris.csv': b'SL,SW,PL,PW,Classification\\r\\n5.1,3.5,1.4,0.2,Iris-setosa\\r\\n4.9,3,1.4,0.2,Iris-setosa\\r\\n,3.2,1.3,0.2,Iris-setosa\\r\\n4.6,3.1,1.5,0.2,Iris-setosa\\r\\n5,3.6,1.4,0.2,Iris-setosa\\r\\n5.4,3.9,1.7,0.4,Iris-setosa\\r\\n4.6,3.4,1.4,0.3,Iris-setosa\\r\\n5,3.4,1.5,0.2,Iris-setosa\\r\\n4.4,2.9,1.4,0.2,Iris-setosa\\r\\n4.9,3.1,1.5,0.1,Iris-setosa\\r\\n5.4,,1.5,0.2,Iris-setosa\\r\\n4.8,3.4,1.6,0.2,Iris-setosa\\r\\n4.8,3,1.4,0.1,Iris-setosa\\r\\n4.3,3,1.1,0.1,Iris-setosa\\r\\n5.8,4,1.2,0.2,Iris-setosa\\r\\n5.7,4.4,1.5,0.4,Iris-setosa\\r\\n5.4,3.9,1.3,0.4,Iris-setosa\\r\\n5.1,3.5,1.4,0.3,Iris-setosa\\r\\n5.7,3.8,1.7,0.3,Iris-setosa\\r\\n5.1,3.8,1.5,0.3,Iris-setosa\\r\\n5.4,3.4,1.7,0.2,Iris-setosa\\r\\n,3.7,1.5,0.4,Iris-setosa\\r\\n4.6,3.6,1,0.2,Iris-setosa\\r\\n5.1,3.3,1.7,0.5,Iris-setosa\\r\\n4.8,3.4,1.9,0.2,Iris-setosa\\r\\n5,3,1.6,0.2,Iris-setosa\\r\\n5,3.4,1.6,0.4,Iris-setosa\\r\\n5.2,,1.5,0.2,Iris-setosa\\r\\n5.2,3.4,,0.2,Iris-setosa\\r\\n4.7,3.2,1.6,0.2,Iris-setosa\\r\\n4.8,3.1,1.6,0.2,Iris-setosa\\r\\n5.4,3.4,1.5,0.4,Iris-setosa\\r\\n5.2,4.1,1.5,0.1,Iris-setosa\\r\\n5.5,4.2,1.4,0.2,Iris-setosa\\r\\n4.9,3.1,1.5,0.1,Iris-setosa\\r\\n5,3.2,1.2,0.2,Iris-setosa\\r\\n5.5,3.5,1.3,0.2,Iris-setosa\\r\\n4.9,3.1,1.5,0.1,Iris-setosa\\r\\n4.4,3,1.3,0.2,Iris-setosa\\r\\n,3.4,1.5,0.2,Iris-setosa\\r\\n5,3.5,1.3,0.3,Iris-setosa\\r\\n4.5,2.3,1.3,0.3,Iris-setosa\\r\\n4.4,3.2,,0.2,Iris-setosa\\r\\n5,,1.6,0.6,Iris-setosa\\r\\n5.1,3.8,1.9,0.4,Iris-setosa\\r\\n4.8,3,1.4,0.3,Iris-setosa\\r\\n5.1,3.8,1.6,0.2,Iris-setosa\\r\\n4.6,3.2,1.4,0.2,Iris-setosa\\r\\n5.3,3.7,1.5,0.2,Iris-setosa\\r\\n5,3.3,1.4,0.2,Iris-setosa\\r\\n7,3.2,4.7,1.4,Iris-versicolor\\r\\n,3.2,4.5,1.5,Iris-versicolor\\r\\n6.9,3.1,4.9,1.5,Iris-versicolor\\r\\n5.5,2.3,4,1.3,Iris-versicolor\\r\\n6.5,2.8,4.6,1.5,Iris-versicolor\\r\\n5.7,2.8,4.5,1.3,Iris-versicolor\\r\\n6.3,3.3,,1.6,Iris-versicolor\\r\\n4.9,2.4,3.3,1,Iris-versicolor\\r\\n6.6,2.9,4.6,1.3,Iris-versicolor\\r\\n5.2,2.7,3.9,1.4,Iris-versicolor\\r\\n5,2,3.5,1,Iris-versicolor\\r\\n5.9,3,4.2,1.5,Iris-versicolor\\r\\n6,2.2,4,1,Iris-versicolor\\r\\n6.1,2.9,4.7,1.4,Iris-versicolor\\r\\n5.6,2.9,3.6,1.3,Iris-versicolor\\r\\n6.7,3.1,4.4,1.4,Iris-versicolor\\r\\n5.6,3,4.5,1.5,Iris-versicolor\\r\\n5.8,2.7,4.1,1,Iris-versicolor\\r\\n6.2,2.2,4.5,1.5,Iris-versicolor\\r\\n5.6,2.5,3.9,1.1,Iris-versicolor\\r\\n5.9,3.2,4.8,1.8,Iris-versicolor\\r\\n6.1,2.8,4,1.3,Iris-versicolor\\r\\n6.3,,4.9,1.5,Iris-versicolor\\r\\n6.1,2.8,4.7,1.2,Iris-versicolor\\r\\n6.4,2.9,4.3,1.3,Iris-versicolor\\r\\n6.6,3,4.4,1.4,Iris-versicolor\\r\\n6.8,2.8,4.8,1.4,Iris-versicolor\\r\\n6.7,3,5,1.7,Iris-versicolor\\r\\n6,2.9,4.5,1.5,Iris-versicolor\\r\\n5.7,2.6,3.5,1,Iris-versicolor\\r\\n5.5,2.4,3.8,1.1,Iris-versicolor\\r\\n5.5,2.4,3.7,1,Iris-versicolor\\r\\n5.8,2.7,3.9,1.2,Iris-versicolor\\r\\n6,2.7,5.1,1.6,Iris-versicolor\\r\\n5.4,3,4.5,1.5,Iris-versicolor\\r\\n,3.4,4.5,1.6,Iris-versicolor\\r\\n6.7,3.1,4.7,1.5,Iris-versicolor\\r\\n6.3,2.3,4.4,1.3,Iris-versicolor\\r\\n5.6,3,4.1,1.3,Iris-versicolor\\r\\n5.5,2.5,4,1.3,Iris-versicolor\\r\\n5.5,2.6,4.4,1.2,Iris-versicolor\\r\\n6.1,3,4.6,1.4,Iris-versicolor\\r\\n5.8,2.6,4,1.2,Iris-versicolor\\r\\n5,2.3,3.3,1,Iris-versicolor\\r\\n5.6,2.7,,1.3,Iris-versicolor\\r\\n5.7,3,4.2,1.2,Iris-versicolor\\r\\n5.7,2.9,4.2,1.3,Iris-versicolor\\r\\n6.2,2.9,4.3,1.3,Iris-versicolor\\r\\n5.1,,3,1.1,Iris-versicolor\\r\\n5.7,2.8,4.1,1.3,Iris-versicolor\\r\\n6.3,3.3,6,2.5,Iris-virginica\\r\\n5.8,2.7,5.1,1.9,Iris-virginica\\r\\n7.1,3,5.9,2.1,Iris-virginica\\r\\n6.3,2.9,5.6,1.8,Iris-virginica\\r\\n6.5,3,5.8,2.2,Iris-virginica\\r\\n7.6,3,6.6,2.1,Iris-virginica\\r\\n,2.5,4.5,1.7,Iris-virginica\\r\\n7.3,2.9,6.3,1.8,Iris-virginica\\r\\n6.7,2.5,5.8,1.8,Iris-virginica\\r\\n7.2,3.6,,2.5,Iris-virginica\\r\\n6.5,3.2,5.1,2,Iris-virginica\\r\\n6.4,2.7,5.3,1.9,Iris-virginica\\r\\n6.8,3,5.5,2.1,Iris-virginica\\r\\n5.7,2.5,5,2,Iris-virginica\\r\\n5.8,2.8,5.1,2.4,Iris-virginica\\r\\n6.4,3.2,5.3,2.3,Iris-virginica\\r\\n6.5,3,5.5,1.8,Iris-virginica\\r\\n7.7,3.8,6.7,2.2,Iris-virginica\\r\\n7.7,2.6,6.9,2.3,Iris-virginica\\r\\n6,2.2,5,1.5,Iris-virginica\\r\\n6.9,3.2,5.7,2.3,Iris-virginica\\r\\n5.6,2.8,4.9,2,Iris-virginica\\r\\n7.7,2.8,6.7,2,Iris-virginica\\r\\n6.3,2.7,4.9,1.8,Iris-virginica\\r\\n6.7,,5.7,2.1,Iris-virginica\\r\\n7.2,3.2,6,1.8,Iris-virginica\\r\\n6.2,2.8,4.8,1.8,Iris-virginica\\r\\n6.1,3,4.9,1.8,Iris-virginica\\r\\n6.4,2.8,5.6,2.1,Iris-virginica\\r\\n7.2,3,5.8,1.6,Iris-virginica\\r\\n7.4,2.8,6.1,1.9,Iris-virginica\\r\\n7.9,3.8,6.4,2,Iris-virginica\\r\\n6.4,2.8,5.6,2.2,Iris-virginica\\r\\n6.3,2.8,5.1,1.5,Iris-virginica\\r\\n6.1,2.6,5.6,1.4,Iris-virginica\\r\\n7.7,3,6.1,2.3,Iris-virginica\\r\\n6.3,3.4,5.6,2.4,Iris-virginica\\r\\n6.4,3.1,5.5,1.8,Iris-virginica\\r\\n6,3,4.8,1.8,Iris-virginica\\r\\n6.9,3.1,5.4,2.1,Iris-virginica\\r\\n6.7,3.1,5.6,2.4,Iris-virginica\\r\\n,3.1,5.1,2.3,Iris-virginica\\r\\n5.8,2.7,5.1,1.9,Iris-virginica\\r\\n6.8,3.2,5.9,2.3,Iris-virginica\\r\\n6.7,3.3,5.7,2.5,Iris-virginica\\r\\n6.7,3,5.2,2.3,Iris-virginica\\r\\n6.3,2.5,5,1.9,Iris-virginica\\r\\n6.5,3,,2,Iris-virginica\\r\\n6.2,3.4,5.4,2.3,Iris-virginica\\r\\n5.9,3,5.1,1.8,Iris-virginica\\r\\n'}"
            ]
          },
          "metadata": {},
          "execution_count": 2
        }
      ]
    },
    {
      "cell_type": "code",
      "source": [
        "df = pd.read_csv('iris.csv')"
      ],
      "metadata": {
        "id": "eEnKsVnk2xQf"
      },
      "execution_count": 3,
      "outputs": []
    },
    {
      "cell_type": "code",
      "source": [
        "df.head()"
      ],
      "metadata": {
        "colab": {
          "base_uri": "https://localhost:8080/",
          "height": 206
        },
        "id": "E4fR_ACY22eH",
        "outputId": "326346d4-1e4c-467b-e676-fac8d7dc4d6e"
      },
      "execution_count": 4,
      "outputs": [
        {
          "output_type": "execute_result",
          "data": {
            "text/plain": [
              "    SL   SW   PL   PW Classification\n",
              "0  5.1  3.5  1.4  0.2    Iris-setosa\n",
              "1  4.9  3.0  1.4  0.2    Iris-setosa\n",
              "2  NaN  3.2  1.3  0.2    Iris-setosa\n",
              "3  4.6  3.1  1.5  0.2    Iris-setosa\n",
              "4  5.0  3.6  1.4  0.2    Iris-setosa"
            ],
            "text/html": [
              "\n",
              "  <div id=\"df-3f4fbab5-c137-422a-a03b-3c2c7b12054d\">\n",
              "    <div class=\"colab-df-container\">\n",
              "      <div>\n",
              "<style scoped>\n",
              "    .dataframe tbody tr th:only-of-type {\n",
              "        vertical-align: middle;\n",
              "    }\n",
              "\n",
              "    .dataframe tbody tr th {\n",
              "        vertical-align: top;\n",
              "    }\n",
              "\n",
              "    .dataframe thead th {\n",
              "        text-align: right;\n",
              "    }\n",
              "</style>\n",
              "<table border=\"1\" class=\"dataframe\">\n",
              "  <thead>\n",
              "    <tr style=\"text-align: right;\">\n",
              "      <th></th>\n",
              "      <th>SL</th>\n",
              "      <th>SW</th>\n",
              "      <th>PL</th>\n",
              "      <th>PW</th>\n",
              "      <th>Classification</th>\n",
              "    </tr>\n",
              "  </thead>\n",
              "  <tbody>\n",
              "    <tr>\n",
              "      <th>0</th>\n",
              "      <td>5.1</td>\n",
              "      <td>3.5</td>\n",
              "      <td>1.4</td>\n",
              "      <td>0.2</td>\n",
              "      <td>Iris-setosa</td>\n",
              "    </tr>\n",
              "    <tr>\n",
              "      <th>1</th>\n",
              "      <td>4.9</td>\n",
              "      <td>3.0</td>\n",
              "      <td>1.4</td>\n",
              "      <td>0.2</td>\n",
              "      <td>Iris-setosa</td>\n",
              "    </tr>\n",
              "    <tr>\n",
              "      <th>2</th>\n",
              "      <td>NaN</td>\n",
              "      <td>3.2</td>\n",
              "      <td>1.3</td>\n",
              "      <td>0.2</td>\n",
              "      <td>Iris-setosa</td>\n",
              "    </tr>\n",
              "    <tr>\n",
              "      <th>3</th>\n",
              "      <td>4.6</td>\n",
              "      <td>3.1</td>\n",
              "      <td>1.5</td>\n",
              "      <td>0.2</td>\n",
              "      <td>Iris-setosa</td>\n",
              "    </tr>\n",
              "    <tr>\n",
              "      <th>4</th>\n",
              "      <td>5.0</td>\n",
              "      <td>3.6</td>\n",
              "      <td>1.4</td>\n",
              "      <td>0.2</td>\n",
              "      <td>Iris-setosa</td>\n",
              "    </tr>\n",
              "  </tbody>\n",
              "</table>\n",
              "</div>\n",
              "      <button class=\"colab-df-convert\" onclick=\"convertToInteractive('df-3f4fbab5-c137-422a-a03b-3c2c7b12054d')\"\n",
              "              title=\"Convert this dataframe to an interactive table.\"\n",
              "              style=\"display:none;\">\n",
              "        \n",
              "  <svg xmlns=\"http://www.w3.org/2000/svg\" height=\"24px\"viewBox=\"0 0 24 24\"\n",
              "       width=\"24px\">\n",
              "    <path d=\"M0 0h24v24H0V0z\" fill=\"none\"/>\n",
              "    <path d=\"M18.56 5.44l.94 2.06.94-2.06 2.06-.94-2.06-.94-.94-2.06-.94 2.06-2.06.94zm-11 1L8.5 8.5l.94-2.06 2.06-.94-2.06-.94L8.5 2.5l-.94 2.06-2.06.94zm10 10l.94 2.06.94-2.06 2.06-.94-2.06-.94-.94-2.06-.94 2.06-2.06.94z\"/><path d=\"M17.41 7.96l-1.37-1.37c-.4-.4-.92-.59-1.43-.59-.52 0-1.04.2-1.43.59L10.3 9.45l-7.72 7.72c-.78.78-.78 2.05 0 2.83L4 21.41c.39.39.9.59 1.41.59.51 0 1.02-.2 1.41-.59l7.78-7.78 2.81-2.81c.8-.78.8-2.07 0-2.86zM5.41 20L4 18.59l7.72-7.72 1.47 1.35L5.41 20z\"/>\n",
              "  </svg>\n",
              "      </button>\n",
              "      \n",
              "  <style>\n",
              "    .colab-df-container {\n",
              "      display:flex;\n",
              "      flex-wrap:wrap;\n",
              "      gap: 12px;\n",
              "    }\n",
              "\n",
              "    .colab-df-convert {\n",
              "      background-color: #E8F0FE;\n",
              "      border: none;\n",
              "      border-radius: 50%;\n",
              "      cursor: pointer;\n",
              "      display: none;\n",
              "      fill: #1967D2;\n",
              "      height: 32px;\n",
              "      padding: 0 0 0 0;\n",
              "      width: 32px;\n",
              "    }\n",
              "\n",
              "    .colab-df-convert:hover {\n",
              "      background-color: #E2EBFA;\n",
              "      box-shadow: 0px 1px 2px rgba(60, 64, 67, 0.3), 0px 1px 3px 1px rgba(60, 64, 67, 0.15);\n",
              "      fill: #174EA6;\n",
              "    }\n",
              "\n",
              "    [theme=dark] .colab-df-convert {\n",
              "      background-color: #3B4455;\n",
              "      fill: #D2E3FC;\n",
              "    }\n",
              "\n",
              "    [theme=dark] .colab-df-convert:hover {\n",
              "      background-color: #434B5C;\n",
              "      box-shadow: 0px 1px 3px 1px rgba(0, 0, 0, 0.15);\n",
              "      filter: drop-shadow(0px 1px 2px rgba(0, 0, 0, 0.3));\n",
              "      fill: #FFFFFF;\n",
              "    }\n",
              "  </style>\n",
              "\n",
              "      <script>\n",
              "        const buttonEl =\n",
              "          document.querySelector('#df-3f4fbab5-c137-422a-a03b-3c2c7b12054d button.colab-df-convert');\n",
              "        buttonEl.style.display =\n",
              "          google.colab.kernel.accessAllowed ? 'block' : 'none';\n",
              "\n",
              "        async function convertToInteractive(key) {\n",
              "          const element = document.querySelector('#df-3f4fbab5-c137-422a-a03b-3c2c7b12054d');\n",
              "          const dataTable =\n",
              "            await google.colab.kernel.invokeFunction('convertToInteractive',\n",
              "                                                     [key], {});\n",
              "          if (!dataTable) return;\n",
              "\n",
              "          const docLinkHtml = 'Like what you see? Visit the ' +\n",
              "            '<a target=\"_blank\" href=https://colab.research.google.com/notebooks/data_table.ipynb>data table notebook</a>'\n",
              "            + ' to learn more about interactive tables.';\n",
              "          element.innerHTML = '';\n",
              "          dataTable['output_type'] = 'display_data';\n",
              "          await google.colab.output.renderOutput(dataTable, element);\n",
              "          const docLink = document.createElement('div');\n",
              "          docLink.innerHTML = docLinkHtml;\n",
              "          element.appendChild(docLink);\n",
              "        }\n",
              "      </script>\n",
              "    </div>\n",
              "  </div>\n",
              "  "
            ]
          },
          "metadata": {},
          "execution_count": 4
        }
      ]
    },
    {
      "cell_type": "code",
      "source": [
        "df.shape"
      ],
      "metadata": {
        "colab": {
          "base_uri": "https://localhost:8080/"
        },
        "id": "31RsWr9v25Cu",
        "outputId": "a9e77806-1238-479e-c8c4-02d3bb9d1b20"
      },
      "execution_count": 5,
      "outputs": [
        {
          "output_type": "execute_result",
          "data": {
            "text/plain": [
              "(150, 5)"
            ]
          },
          "metadata": {},
          "execution_count": 5
        }
      ]
    },
    {
      "cell_type": "code",
      "source": [
        "df.columns"
      ],
      "metadata": {
        "colab": {
          "base_uri": "https://localhost:8080/"
        },
        "id": "-BBvMjPR279P",
        "outputId": "a8b929d2-49c1-4ec2-812a-72ed7f0adc4e"
      },
      "execution_count": 6,
      "outputs": [
        {
          "output_type": "execute_result",
          "data": {
            "text/plain": [
              "Index(['SL', 'SW', 'PL', 'PW', 'Classification'], dtype='object')"
            ]
          },
          "metadata": {},
          "execution_count": 6
        }
      ]
    },
    {
      "cell_type": "code",
      "source": [
        "df.info()"
      ],
      "metadata": {
        "colab": {
          "base_uri": "https://localhost:8080/"
        },
        "id": "Cm1OY2lz2-uG",
        "outputId": "a9df5875-ba2d-471b-f273-8ca1d54addd6"
      },
      "execution_count": 7,
      "outputs": [
        {
          "output_type": "stream",
          "name": "stdout",
          "text": [
            "<class 'pandas.core.frame.DataFrame'>\n",
            "RangeIndex: 150 entries, 0 to 149\n",
            "Data columns (total 5 columns):\n",
            " #   Column          Non-Null Count  Dtype  \n",
            "---  ------          --------------  -----  \n",
            " 0   SL              143 non-null    float64\n",
            " 1   SW              144 non-null    float64\n",
            " 2   PL              144 non-null    float64\n",
            " 3   PW              150 non-null    float64\n",
            " 4   Classification  150 non-null    object \n",
            "dtypes: float64(4), object(1)\n",
            "memory usage: 6.0+ KB\n"
          ]
        }
      ]
    },
    {
      "cell_type": "markdown",
      "source": [
        "There are 150 total rows. But SL, SW and PL shows 143,144 and 144 respectively. Which means missing of data."
      ],
      "metadata": {
        "id": "pXx3ngce3E2_"
      }
    },
    {
      "cell_type": "code",
      "source": [
        "#basic details of the dataset\n",
        "df.describe()"
      ],
      "metadata": {
        "colab": {
          "base_uri": "https://localhost:8080/",
          "height": 300
        },
        "id": "kbyvLJNM3Fzu",
        "outputId": "00dabdf0-41b5-483e-a4e2-501ce5364630"
      },
      "execution_count": 8,
      "outputs": [
        {
          "output_type": "execute_result",
          "data": {
            "text/plain": [
              "               SL          SW          PL          PW\n",
              "count  143.000000  144.000000  144.000000  150.000000\n",
              "mean     5.855944    3.049306    3.756250    1.198667\n",
              "std      0.828168    0.430644    1.761306    0.763161\n",
              "min      4.300000    2.000000    1.000000    0.100000\n",
              "25%      5.100000    2.800000    1.600000    0.300000\n",
              "50%      5.800000    3.000000    4.350000    1.300000\n",
              "75%      6.400000    3.300000    5.100000    1.800000\n",
              "max      7.900000    4.400000    6.900000    2.500000"
            ],
            "text/html": [
              "\n",
              "  <div id=\"df-b1a2f1ce-194d-4116-a7bf-ea6d0fa26c9b\">\n",
              "    <div class=\"colab-df-container\">\n",
              "      <div>\n",
              "<style scoped>\n",
              "    .dataframe tbody tr th:only-of-type {\n",
              "        vertical-align: middle;\n",
              "    }\n",
              "\n",
              "    .dataframe tbody tr th {\n",
              "        vertical-align: top;\n",
              "    }\n",
              "\n",
              "    .dataframe thead th {\n",
              "        text-align: right;\n",
              "    }\n",
              "</style>\n",
              "<table border=\"1\" class=\"dataframe\">\n",
              "  <thead>\n",
              "    <tr style=\"text-align: right;\">\n",
              "      <th></th>\n",
              "      <th>SL</th>\n",
              "      <th>SW</th>\n",
              "      <th>PL</th>\n",
              "      <th>PW</th>\n",
              "    </tr>\n",
              "  </thead>\n",
              "  <tbody>\n",
              "    <tr>\n",
              "      <th>count</th>\n",
              "      <td>143.000000</td>\n",
              "      <td>144.000000</td>\n",
              "      <td>144.000000</td>\n",
              "      <td>150.000000</td>\n",
              "    </tr>\n",
              "    <tr>\n",
              "      <th>mean</th>\n",
              "      <td>5.855944</td>\n",
              "      <td>3.049306</td>\n",
              "      <td>3.756250</td>\n",
              "      <td>1.198667</td>\n",
              "    </tr>\n",
              "    <tr>\n",
              "      <th>std</th>\n",
              "      <td>0.828168</td>\n",
              "      <td>0.430644</td>\n",
              "      <td>1.761306</td>\n",
              "      <td>0.763161</td>\n",
              "    </tr>\n",
              "    <tr>\n",
              "      <th>min</th>\n",
              "      <td>4.300000</td>\n",
              "      <td>2.000000</td>\n",
              "      <td>1.000000</td>\n",
              "      <td>0.100000</td>\n",
              "    </tr>\n",
              "    <tr>\n",
              "      <th>25%</th>\n",
              "      <td>5.100000</td>\n",
              "      <td>2.800000</td>\n",
              "      <td>1.600000</td>\n",
              "      <td>0.300000</td>\n",
              "    </tr>\n",
              "    <tr>\n",
              "      <th>50%</th>\n",
              "      <td>5.800000</td>\n",
              "      <td>3.000000</td>\n",
              "      <td>4.350000</td>\n",
              "      <td>1.300000</td>\n",
              "    </tr>\n",
              "    <tr>\n",
              "      <th>75%</th>\n",
              "      <td>6.400000</td>\n",
              "      <td>3.300000</td>\n",
              "      <td>5.100000</td>\n",
              "      <td>1.800000</td>\n",
              "    </tr>\n",
              "    <tr>\n",
              "      <th>max</th>\n",
              "      <td>7.900000</td>\n",
              "      <td>4.400000</td>\n",
              "      <td>6.900000</td>\n",
              "      <td>2.500000</td>\n",
              "    </tr>\n",
              "  </tbody>\n",
              "</table>\n",
              "</div>\n",
              "      <button class=\"colab-df-convert\" onclick=\"convertToInteractive('df-b1a2f1ce-194d-4116-a7bf-ea6d0fa26c9b')\"\n",
              "              title=\"Convert this dataframe to an interactive table.\"\n",
              "              style=\"display:none;\">\n",
              "        \n",
              "  <svg xmlns=\"http://www.w3.org/2000/svg\" height=\"24px\"viewBox=\"0 0 24 24\"\n",
              "       width=\"24px\">\n",
              "    <path d=\"M0 0h24v24H0V0z\" fill=\"none\"/>\n",
              "    <path d=\"M18.56 5.44l.94 2.06.94-2.06 2.06-.94-2.06-.94-.94-2.06-.94 2.06-2.06.94zm-11 1L8.5 8.5l.94-2.06 2.06-.94-2.06-.94L8.5 2.5l-.94 2.06-2.06.94zm10 10l.94 2.06.94-2.06 2.06-.94-2.06-.94-.94-2.06-.94 2.06-2.06.94z\"/><path d=\"M17.41 7.96l-1.37-1.37c-.4-.4-.92-.59-1.43-.59-.52 0-1.04.2-1.43.59L10.3 9.45l-7.72 7.72c-.78.78-.78 2.05 0 2.83L4 21.41c.39.39.9.59 1.41.59.51 0 1.02-.2 1.41-.59l7.78-7.78 2.81-2.81c.8-.78.8-2.07 0-2.86zM5.41 20L4 18.59l7.72-7.72 1.47 1.35L5.41 20z\"/>\n",
              "  </svg>\n",
              "      </button>\n",
              "      \n",
              "  <style>\n",
              "    .colab-df-container {\n",
              "      display:flex;\n",
              "      flex-wrap:wrap;\n",
              "      gap: 12px;\n",
              "    }\n",
              "\n",
              "    .colab-df-convert {\n",
              "      background-color: #E8F0FE;\n",
              "      border: none;\n",
              "      border-radius: 50%;\n",
              "      cursor: pointer;\n",
              "      display: none;\n",
              "      fill: #1967D2;\n",
              "      height: 32px;\n",
              "      padding: 0 0 0 0;\n",
              "      width: 32px;\n",
              "    }\n",
              "\n",
              "    .colab-df-convert:hover {\n",
              "      background-color: #E2EBFA;\n",
              "      box-shadow: 0px 1px 2px rgba(60, 64, 67, 0.3), 0px 1px 3px 1px rgba(60, 64, 67, 0.15);\n",
              "      fill: #174EA6;\n",
              "    }\n",
              "\n",
              "    [theme=dark] .colab-df-convert {\n",
              "      background-color: #3B4455;\n",
              "      fill: #D2E3FC;\n",
              "    }\n",
              "\n",
              "    [theme=dark] .colab-df-convert:hover {\n",
              "      background-color: #434B5C;\n",
              "      box-shadow: 0px 1px 3px 1px rgba(0, 0, 0, 0.15);\n",
              "      filter: drop-shadow(0px 1px 2px rgba(0, 0, 0, 0.3));\n",
              "      fill: #FFFFFF;\n",
              "    }\n",
              "  </style>\n",
              "\n",
              "      <script>\n",
              "        const buttonEl =\n",
              "          document.querySelector('#df-b1a2f1ce-194d-4116-a7bf-ea6d0fa26c9b button.colab-df-convert');\n",
              "        buttonEl.style.display =\n",
              "          google.colab.kernel.accessAllowed ? 'block' : 'none';\n",
              "\n",
              "        async function convertToInteractive(key) {\n",
              "          const element = document.querySelector('#df-b1a2f1ce-194d-4116-a7bf-ea6d0fa26c9b');\n",
              "          const dataTable =\n",
              "            await google.colab.kernel.invokeFunction('convertToInteractive',\n",
              "                                                     [key], {});\n",
              "          if (!dataTable) return;\n",
              "\n",
              "          const docLinkHtml = 'Like what you see? Visit the ' +\n",
              "            '<a target=\"_blank\" href=https://colab.research.google.com/notebooks/data_table.ipynb>data table notebook</a>'\n",
              "            + ' to learn more about interactive tables.';\n",
              "          element.innerHTML = '';\n",
              "          dataTable['output_type'] = 'display_data';\n",
              "          await google.colab.output.renderOutput(dataTable, element);\n",
              "          const docLink = document.createElement('div');\n",
              "          docLink.innerHTML = docLinkHtml;\n",
              "          element.appendChild(docLink);\n",
              "        }\n",
              "      </script>\n",
              "    </div>\n",
              "  </div>\n",
              "  "
            ]
          },
          "metadata": {},
          "execution_count": 8
        }
      ]
    },
    {
      "cell_type": "code",
      "source": [
        "#Null value checking \n",
        "df.isna().sum()"
      ],
      "metadata": {
        "colab": {
          "base_uri": "https://localhost:8080/"
        },
        "id": "ffnqEJsC3Jqm",
        "outputId": "258783ec-41ba-4e52-fa19-d6f3df4185f2"
      },
      "execution_count": 9,
      "outputs": [
        {
          "output_type": "execute_result",
          "data": {
            "text/plain": [
              "SL                7\n",
              "SW                6\n",
              "PL                6\n",
              "PW                0\n",
              "Classification    0\n",
              "dtype: int64"
            ]
          },
          "metadata": {},
          "execution_count": 9
        }
      ]
    },
    {
      "cell_type": "code",
      "source": [
        "# Drop rows with missing value\n",
        "df = df.dropna()"
      ],
      "metadata": {
        "id": "dPx32QW_3N5n"
      },
      "execution_count": 10,
      "outputs": []
    },
    {
      "cell_type": "code",
      "source": [
        "df.info()"
      ],
      "metadata": {
        "colab": {
          "base_uri": "https://localhost:8080/"
        },
        "id": "OqlvS9l43Twu",
        "outputId": "7771e277-7c48-4680-94ad-ece5e19df691"
      },
      "execution_count": 11,
      "outputs": [
        {
          "output_type": "stream",
          "name": "stdout",
          "text": [
            "<class 'pandas.core.frame.DataFrame'>\n",
            "Int64Index: 131 entries, 0 to 149\n",
            "Data columns (total 5 columns):\n",
            " #   Column          Non-Null Count  Dtype  \n",
            "---  ------          --------------  -----  \n",
            " 0   SL              131 non-null    float64\n",
            " 1   SW              131 non-null    float64\n",
            " 2   PL              131 non-null    float64\n",
            " 3   PW              131 non-null    float64\n",
            " 4   Classification  131 non-null    object \n",
            "dtypes: float64(4), object(1)\n",
            "memory usage: 6.1+ KB\n"
          ]
        }
      ]
    },
    {
      "cell_type": "markdown",
      "source": [
        "the data set is reduced to 131 rows from 150 rows. that is missing of data. So create dummy variables."
      ],
      "metadata": {
        "id": "ZmAFvicS3XH_"
      }
    },
    {
      "cell_type": "code",
      "source": [
        "#Creating dummy variables\n",
        "dummies = []\n",
        "cols = ['SL', 'SW', 'PL']\n",
        "for col in cols:\n",
        "   dummies.append(pd.get_dummies(df[col]))"
      ],
      "metadata": {
        "id": "gb9asH5V3VNG"
      },
      "execution_count": 13,
      "outputs": []
    },
    {
      "cell_type": "code",
      "source": [
        "iris_dummies = pd.concat(dummies, axis=1)"
      ],
      "metadata": {
        "id": "E4lhHMX54HNn"
      },
      "execution_count": 14,
      "outputs": []
    },
    {
      "cell_type": "code",
      "source": [
        "df = df.drop(['SL', 'SW', 'PL'], axis=1)"
      ],
      "metadata": {
        "id": "0m1X0GJu4Od4"
      },
      "execution_count": 15,
      "outputs": []
    },
    {
      "cell_type": "code",
      "source": [
        "df.info()"
      ],
      "metadata": {
        "colab": {
          "base_uri": "https://localhost:8080/"
        },
        "id": "iDJ8tsie4RRf",
        "outputId": "8e61246c-6687-48fc-883f-981187613e1b"
      },
      "execution_count": 16,
      "outputs": [
        {
          "output_type": "stream",
          "name": "stdout",
          "text": [
            "<class 'pandas.core.frame.DataFrame'>\n",
            "Int64Index: 131 entries, 0 to 149\n",
            "Data columns (total 2 columns):\n",
            " #   Column          Non-Null Count  Dtype  \n",
            "---  ------          --------------  -----  \n",
            " 0   PW              131 non-null    float64\n",
            " 1   Classification  131 non-null    object \n",
            "dtypes: float64(1), object(1)\n",
            "memory usage: 3.1+ KB\n"
          ]
        }
      ]
    },
    {
      "cell_type": "code",
      "source": [
        "X = df.values\n",
        "y = df['Classification'].values"
      ],
      "metadata": {
        "id": "yweourrj4bpx"
      },
      "execution_count": 17,
      "outputs": []
    },
    {
      "cell_type": "code",
      "source": [
        "X = np.delete(X, 1, axis=1)"
      ],
      "metadata": {
        "id": "L1ambUOy4lTx"
      },
      "execution_count": 18,
      "outputs": []
    },
    {
      "cell_type": "markdown",
      "source": [
        "Divide the Data Set Into Training Data and Test Data"
      ],
      "metadata": {
        "id": "WZN7ojLz4so5"
      }
    },
    {
      "cell_type": "code",
      "source": [
        "from sklearn.model_selection import train_test_split\n",
        "X_train, X_test, y_train, y_test = train_test_split(X, y, test_size=0.3, random_state=0)"
      ],
      "metadata": {
        "id": "nTWbfBjf4mgA"
      },
      "execution_count": 21,
      "outputs": []
    },
    {
      "cell_type": "code",
      "source": [
        "df.info()"
      ],
      "metadata": {
        "colab": {
          "base_uri": "https://localhost:8080/"
        },
        "id": "HlDcUTJ750i3",
        "outputId": "9d237381-59b6-48f1-8ec6-41a909dbdd2a"
      },
      "execution_count": 22,
      "outputs": [
        {
          "output_type": "stream",
          "name": "stdout",
          "text": [
            "<class 'pandas.core.frame.DataFrame'>\n",
            "Int64Index: 131 entries, 0 to 149\n",
            "Data columns (total 2 columns):\n",
            " #   Column          Non-Null Count  Dtype  \n",
            "---  ------          --------------  -----  \n",
            " 0   PW              131 non-null    float64\n",
            " 1   Classification  131 non-null    object \n",
            "dtypes: float64(1), object(1)\n",
            "memory usage: 3.1+ KB\n"
          ]
        }
      ]
    }
  ]
}